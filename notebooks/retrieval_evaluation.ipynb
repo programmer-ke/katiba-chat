{
 "cells": [
  {
   "cell_type": "markdown",
   "id": "7ffc6237-bdd9-4436-8c54-addc6c04a19e",
   "metadata": {},
   "source": [
    "# Retrieval Evaluation"
   ]
  },
  {
   "cell_type": "markdown",
   "id": "ca1d684a-dfac-4446-bc60-baa634e0316d",
   "metadata": {},
   "source": [
    "We'd like to compare several retrieval techniques to find the best for our use case, querying the kenya 2010 constitution.\n",
    "\n",
    "The options are:\n",
    "- lexical search\n",
    "- semantic search\n",
    "- a hybrid of lexical and semantic search"
   ]
  },
  {
   "cell_type": "markdown",
   "id": "6e427a49-7789-49cc-98d2-17ee98a92322",
   "metadata": {},
   "source": [
    "We'll use synthetic data obtained by generating questions for each of the constitution's articles using an LLM.\n",
    "\n",
    "We'll run these questions through the retrieval process and use two metrics for evaluating the results:\n",
    "\n",
    "- hit rate\n",
    "- mean reciprocal rank"
   ]
  },
  {
   "cell_type": "markdown",
   "id": "9e0ca92e-608b-4bd9-82e0-325ea144d56a",
   "metadata": {},
   "source": [
    "As a baseline, we'll use the barebones [minsearch][0] library which implements simple lexical search using [TF-IDF][1] for document representation.\n",
    "\n",
    "[0]: https://github.com/alexeygrigorev/minsearch/blob/main/minsearch.py\n",
    "[1]: https://en.wikipedia.org/wiki/Tf%E2%80%93idf"
   ]
  },
  {
   "cell_type": "markdown",
   "id": "694b29b5-09f1-4326-a7f3-0128a9daa81c",
   "metadata": {},
   "source": [
    "## Data preparation"
   ]
  },
  {
   "cell_type": "code",
   "execution_count": 1,
   "id": "8f62f009-af1c-48af-a81a-63d64975eac7",
   "metadata": {},
   "outputs": [
    {
     "name": "stdout",
     "output_type": "stream",
     "text": [
      "\n",
      "\u001b[1m[\u001b[0m\u001b[34;49mnotice\u001b[0m\u001b[1;39;49m]\u001b[0m\u001b[39;49m A new release of pip is available: \u001b[0m\u001b[31;49m24.2\u001b[0m\u001b[39;49m -> \u001b[0m\u001b[32;49m24.3.1\u001b[0m\n",
      "\u001b[1m[\u001b[0m\u001b[34;49mnotice\u001b[0m\u001b[1;39;49m]\u001b[0m\u001b[39;49m To update, run: \u001b[0m\u001b[32;49mpip install --upgrade pip\u001b[0m\n",
      "Note: you may need to restart the kernel to use updated packages.\n"
     ]
    }
   ],
   "source": [
    "pip install -q pandas tqdm"
   ]
  },
  {
   "cell_type": "code",
   "execution_count": 2,
   "id": "7b97e528-c5aa-4cc1-856e-e37870cd0c0a",
   "metadata": {},
   "outputs": [],
   "source": [
    "import pandas as pd"
   ]
  },
  {
   "cell_type": "markdown",
   "id": "140098a1-0009-4fdc-b22c-2ad7667c546e",
   "metadata": {},
   "source": [
    "Load previously generated evaluation data:"
   ]
  },
  {
   "cell_type": "code",
   "execution_count": 3,
   "id": "33645fb7-155e-4aff-88a1-44327e911b3f",
   "metadata": {},
   "outputs": [],
   "source": [
    "![ -f rag_evaluation_data.csv ] || wget https://raw.githubusercontent.com/programmer-ke/katiba-chat/refs/heads/master/notebooks/rag_evaluation_data.csv"
   ]
  },
  {
   "cell_type": "code",
   "execution_count": 4,
   "id": "ec5f491f-76da-4c89-b0be-f56c692881c9",
   "metadata": {},
   "outputs": [
    {
     "data": {
      "text/html": [
       "<div>\n",
       "<style scoped>\n",
       "    .dataframe tbody tr th:only-of-type {\n",
       "        vertical-align: middle;\n",
       "    }\n",
       "\n",
       "    .dataframe tbody tr th {\n",
       "        vertical-align: top;\n",
       "    }\n",
       "\n",
       "    .dataframe thead th {\n",
       "        text-align: right;\n",
       "    }\n",
       "</style>\n",
       "<table border=\"1\" class=\"dataframe\">\n",
       "  <thead>\n",
       "    <tr style=\"text-align: right;\">\n",
       "      <th></th>\n",
       "      <th>question</th>\n",
       "      <th>article_number</th>\n",
       "    </tr>\n",
       "  </thead>\n",
       "  <tbody>\n",
       "    <tr>\n",
       "      <th>0</th>\n",
       "      <td>Who holds all sovereign power in Kenya accordi...</td>\n",
       "      <td>1</td>\n",
       "    </tr>\n",
       "    <tr>\n",
       "      <th>1</th>\n",
       "      <td>How can the people of Kenya exercise their sov...</td>\n",
       "      <td>1</td>\n",
       "    </tr>\n",
       "    <tr>\n",
       "      <th>2</th>\n",
       "      <td>To which state organs is sovereign power deleg...</td>\n",
       "      <td>1</td>\n",
       "    </tr>\n",
       "    <tr>\n",
       "      <th>3</th>\n",
       "      <td>At which levels is the sovereign power of the ...</td>\n",
       "      <td>1</td>\n",
       "    </tr>\n",
       "    <tr>\n",
       "      <th>4</th>\n",
       "      <td>What makes this Constitution the ultimate auth...</td>\n",
       "      <td>2</td>\n",
       "    </tr>\n",
       "    <tr>\n",
       "      <th>...</th>\n",
       "      <td>...</td>\n",
       "      <td>...</td>\n",
       "    </tr>\n",
       "    <tr>\n",
       "      <th>1312</th>\n",
       "      <td>What was the previous constitution that was in...</td>\n",
       "      <td>264</td>\n",
       "    </tr>\n",
       "    <tr>\n",
       "      <th>1313</th>\n",
       "      <td>When did the previous constitution cease to be...</td>\n",
       "      <td>264</td>\n",
       "    </tr>\n",
       "    <tr>\n",
       "      <th>1314</th>\n",
       "      <td>What happened to the previous constitution on ...</td>\n",
       "      <td>264</td>\n",
       "    </tr>\n",
       "    <tr>\n",
       "      <th>1315</th>\n",
       "      <td>What is the Sixth Schedule in relation to the ...</td>\n",
       "      <td>264</td>\n",
       "    </tr>\n",
       "    <tr>\n",
       "      <th>1316</th>\n",
       "      <td>Are there any exceptions to the repeal of the ...</td>\n",
       "      <td>264</td>\n",
       "    </tr>\n",
       "  </tbody>\n",
       "</table>\n",
       "<p>1317 rows × 2 columns</p>\n",
       "</div>"
      ],
      "text/plain": [
       "                                               question  article_number\n",
       "0     Who holds all sovereign power in Kenya accordi...               1\n",
       "1     How can the people of Kenya exercise their sov...               1\n",
       "2     To which state organs is sovereign power deleg...               1\n",
       "3     At which levels is the sovereign power of the ...               1\n",
       "4     What makes this Constitution the ultimate auth...               2\n",
       "...                                                 ...             ...\n",
       "1312  What was the previous constitution that was in...             264\n",
       "1313  When did the previous constitution cease to be...             264\n",
       "1314  What happened to the previous constitution on ...             264\n",
       "1315  What is the Sixth Schedule in relation to the ...             264\n",
       "1316  Are there any exceptions to the repeal of the ...             264\n",
       "\n",
       "[1317 rows x 2 columns]"
      ]
     },
     "execution_count": 4,
     "metadata": {},
     "output_type": "execute_result"
    }
   ],
   "source": [
    "df_eval_data = pd.read_csv(\"rag_evaluation_data.csv\")\n",
    "df_eval_data"
   ]
  },
  {
   "cell_type": "markdown",
   "id": "d60df744-34e0-4793-b0f7-42220d7925c1",
   "metadata": {},
   "source": [
    "It has two columns, a question and the associated article number. There are several questions for each article.\n",
    "\n",
    "Next, we load the articles:"
   ]
  },
  {
   "cell_type": "code",
   "execution_count": 5,
   "id": "f4acdb26-754e-47ff-b3ca-8856895ed99b",
   "metadata": {},
   "outputs": [],
   "source": [
    "![ ! -f constitution.json ] && wget https://raw.githubusercontent.com/programmer-ke/constitution_kenya/refs/heads/master/json/ConstitutionKenya2010.json -O constitution.json"
   ]
  },
  {
   "cell_type": "code",
   "execution_count": 6,
   "id": "66709210-8aff-433b-8928-1dba6151c291",
   "metadata": {},
   "outputs": [],
   "source": [
    "import json\n",
    "\n",
    "with open('constitution.json', 'rt') as f:\n",
    "    articles = json.load(f)\n",
    "\n",
    "documents = []\n",
    "for article in articles:\n",
    "    \n",
    "    article_text = \"\".join(article['lines'])\n",
    "    article_title = f\"Article {article['number']}: {article['title']}\"\n",
    "    chapter_number, chapter_title = article['chapter']\n",
    "    chapter_text = f\"Chapter {chapter_number}: {chapter_title}\"\n",
    "    part_text = \"\"\n",
    "    \n",
    "    if article['part']:\n",
    "        part_num, part_title = article['part']\n",
    "        part_text = f'Part {part_num}: {part_title}'\n",
    "        \n",
    "    documents.append({\n",
    "        \"title\": article_title,\n",
    "        \"clauses\": article_text,\n",
    "        \"chapter\": chapter_text,\n",
    "        \"part\": part_text,\n",
    "        \"number\": article['number']\n",
    "    })"
   ]
  },
  {
   "cell_type": "code",
   "execution_count": 7,
   "id": "dbad1b90-1b4f-4059-8878-1530a965e3f2",
   "metadata": {},
   "outputs": [
    {
     "data": {
      "text/plain": [
       "[{'title': 'Article 1: Sovereignty of the people.',\n",
       "  'clauses': '(1)  All sovereign power belongs to the people of Kenya and shall be exercised\\nonly in accordance with this Constitution.\\n(2)  The people may exercise their sovereign power either directly or through their\\ndemocratically elected representatives.\\n(3)  Sovereign power under this Constitution is delegated to the following State\\norgans, which shall perform their functions in accordance with this Constitution—\\n(a) Parliament and the legislative assemblies in the county governments;\\n(b) the national executive and the executive structures in the county\\ngovernments; and\\n(c) the Judiciary and independent tribunals.\\n(4)  The sovereign power of the people is exercised at—\\n(a) the national level; and\\n(b) the county level.\\n',\n",
       "  'chapter': 'Chapter 1: SOVEREIGNTY OF THE PEOPLE AND SUPREMACY OF THIS CONSTITUTION',\n",
       "  'part': '',\n",
       "  'number': 1},\n",
       " {'title': 'Article 2: Supremacy of this Constitution.',\n",
       "  'clauses': '(1)  This Constitution is the supreme law of the Republic and binds all persons\\nand all State organs at both levels of government.\\n(2)  No person may claim or exercise State authority except as authorised under\\nthis Constitution.\\n(3)  The validity or legality of this Constitution is not subject to challenge by or\\nbefore any court or other State organ.\\n(4)  Any law, including customary law, that is inconsistent with this Constitution\\nis void to the extent of the inconsistency, and any act or omission in contravention\\nof this Constitution is invalid.\\n(5)  The general rules of international law shall form part of the law of Kenya.\\n(6)  Any treaty or convention ratified by Kenya shall form part of the law of Kenya\\nunder this Constitution.\\n',\n",
       "  'chapter': 'Chapter 1: SOVEREIGNTY OF THE PEOPLE AND SUPREMACY OF THIS CONSTITUTION',\n",
       "  'part': '',\n",
       "  'number': 2}]"
      ]
     },
     "execution_count": 7,
     "metadata": {},
     "output_type": "execute_result"
    }
   ],
   "source": [
    "documents[:2]"
   ]
  },
  {
   "cell_type": "code",
   "execution_count": 8,
   "id": "62a33b9e-7a7e-4d9f-b762-d6adeddf88fa",
   "metadata": {},
   "outputs": [
    {
     "data": {
      "text/plain": [
       "[{'question': 'Who holds all sovereign power in Kenya according to this Constitution?',\n",
       "  'article_number': 1},\n",
       " {'question': 'How can the people of Kenya exercise their sovereign power?',\n",
       "  'article_number': 1},\n",
       " {'question': 'To which state organs is sovereign power delegated?',\n",
       "  'article_number': 1}]"
      ]
     },
     "execution_count": 8,
     "metadata": {},
     "output_type": "execute_result"
    }
   ],
   "source": [
    "evaluation_data = df_eval_data.to_dict(orient='records')\n",
    "evaluation_data[:3]"
   ]
  },
  {
   "cell_type": "markdown",
   "id": "d3f44ec4-24e7-4f0c-96f3-ecf847ef236f",
   "metadata": {},
   "source": [
    "## Baseline with minsearch"
   ]
  },
  {
   "cell_type": "markdown",
   "id": "62e958f7-3159-44c1-8b01-5c6a4e48c553",
   "metadata": {},
   "source": [
    "Get minsearch:"
   ]
  },
  {
   "cell_type": "code",
   "execution_count": 9,
   "id": "dac7f6f1-b5ad-4d14-92a3-87f03911cd86",
   "metadata": {},
   "outputs": [],
   "source": [
    "![ ! -f minsearch.py ] && wget https://raw.githubusercontent.com/alexeygrigorev/minsearch/refs/heads/main/minsearch.py -O minsearch.py"
   ]
  },
  {
   "cell_type": "markdown",
   "id": "4a88c845-2bc6-4293-8ff9-eaf8e327bff8",
   "metadata": {},
   "source": [
    "Next is to index the documents for search:"
   ]
  },
  {
   "cell_type": "code",
   "execution_count": 10,
   "id": "42ce3884-c825-47e1-8972-ba5d631a9cee",
   "metadata": {},
   "outputs": [
    {
     "data": {
      "text/plain": [
       "<minsearch.Index at 0x7fe510aa3a40>"
      ]
     },
     "execution_count": 10,
     "metadata": {},
     "output_type": "execute_result"
    }
   ],
   "source": [
    "import minsearch\n",
    "\n",
    "index = minsearch.Index(text_fields=['title', 'clauses', 'chapter', 'part'], keyword_fields=[])\n",
    "index.fit(documents)"
   ]
  },
  {
   "cell_type": "code",
   "execution_count": 11,
   "id": "0c7597f6-ed26-431c-b203-7b2ce8ab1c11",
   "metadata": {},
   "outputs": [],
   "source": [
    "def search(query):\n",
    "    return index.search(query, num_results=5)"
   ]
  },
  {
   "cell_type": "markdown",
   "id": "cb1846fc-fe9d-407a-8c84-b59a0a313d26",
   "metadata": {},
   "source": [
    "Test search with the first question:"
   ]
  },
  {
   "cell_type": "code",
   "execution_count": 12,
   "id": "e1a55167-20cc-44f4-b01c-a42e64751129",
   "metadata": {},
   "outputs": [
    {
     "data": {
      "text/plain": [
       "[{'title': 'Article 2: Supremacy of this Constitution.',\n",
       "  'clauses': '(1)  This Constitution is the supreme law of the Republic and binds all persons\\nand all State organs at both levels of government.\\n(2)  No person may claim or exercise State authority except as authorised under\\nthis Constitution.\\n(3)  The validity or legality of this Constitution is not subject to challenge by or\\nbefore any court or other State organ.\\n(4)  Any law, including customary law, that is inconsistent with this Constitution\\nis void to the extent of the inconsistency, and any act or omission in contravention\\nof this Constitution is invalid.\\n(5)  The general rules of international law shall form part of the law of Kenya.\\n(6)  Any treaty or convention ratified by Kenya shall form part of the law of Kenya\\nunder this Constitution.\\n',\n",
       "  'chapter': 'Chapter 1: SOVEREIGNTY OF THE PEOPLE AND SUPREMACY OF THIS CONSTITUTION',\n",
       "  'part': '',\n",
       "  'number': 2},\n",
       " {'title': 'Article 255: Amendment of this Constitution.',\n",
       "  'clauses': '(1)  A proposed amendment to this Constitution shall be enacted in\\naccordance with Article 256 or 257, and approved in accordance with clause (2) by a\\nreferendum, if the amendment relates to any of the following matters—\\n(a) the supremacy of this Constitution;\\n(b) the territory of Kenya;\\n(c) the sovereignty of the people;\\n(d) the national values and principles of governance referred to in Article\\n10(2)(a) to (d);\\n(e) the Bill of Rights;\\n(f)the term of office of the President;\\n(g) the independence of the Judiciary and the commissions and\\nindependent offices to which Chapter Fifteen applies;\\n(h) the functions of Parliament;\\n(i) the objects, principles and structure of devolved government; or\\n(j) the provisions of this Chapter.\\n(2)  A proposed amendment shall be approved by a referendum under clause (1)\\nif—\\n(a) at least twenty per cent of the registered voters in each of at least half\\nof the counties vote in the referendum; and\\n(b) the amendment is supported by a simple majority of the citizens voting\\nin the referendum.\\n(3)  An amendment to this Constitution that does not relate to a matter specified\\nin clause (1) shall be enacted either—\\n(a) by Parliament, in accordance with Article 256; or\\n(b) by the people and Parliament, in accordance with Article 257.\\n',\n",
       "  'chapter': 'Chapter 16: AMENDMENT OF THIS CONSTITUTION',\n",
       "  'part': '',\n",
       "  'number': 255},\n",
       " {'title': 'Article 3: Defence of this Constitution.',\n",
       "  'clauses': '(1)  Every person has an obligation to respect, uphold and defend this\\nConstitution.\\n(2)  Any attempt to establish a government otherwise than in compliance with\\nthis Constitution is unlawful.\\n',\n",
       "  'chapter': 'Chapter 1: SOVEREIGNTY OF THE PEOPLE AND SUPREMACY OF THIS CONSTITUTION',\n",
       "  'part': '',\n",
       "  'number': 3},\n",
       " {'title': 'Article 1: Sovereignty of the people.',\n",
       "  'clauses': '(1)  All sovereign power belongs to the people of Kenya and shall be exercised\\nonly in accordance with this Constitution.\\n(2)  The people may exercise their sovereign power either directly or through their\\ndemocratically elected representatives.\\n(3)  Sovereign power under this Constitution is delegated to the following State\\norgans, which shall perform their functions in accordance with this Constitution—\\n(a) Parliament and the legislative assemblies in the county governments;\\n(b) the national executive and the executive structures in the county\\ngovernments; and\\n(c) the Judiciary and independent tribunals.\\n(4)  The sovereign power of the people is exercised at—\\n(a) the national level; and\\n(b) the county level.\\n',\n",
       "  'chapter': 'Chapter 1: SOVEREIGNTY OF THE PEOPLE AND SUPREMACY OF THIS CONSTITUTION',\n",
       "  'part': '',\n",
       "  'number': 1},\n",
       " {'title': 'Article 256: Amendment by parliamentary initiative.',\n",
       "  'clauses': '(1)  A Bill to amend this Constitution—\\n(a) may be introduced in either House of Parliament;\\n(b) may not address any other matter apart from consequential\\namendments to legislation arising from the Bill;\\n(c) shall not be called for second reading in either House within ninety days\\nafter the first reading of the Bill in that House; and\\n(d) shall have been passed by Parliament when each House of Parliament\\nhas passed the Bill, in both its second and third readings, by not less\\nthan two-thirds of all the members of that House.\\n(2)  Parliament shall publicise any Bill to amend this Constitution, and facilitate\\npublic discussion about the Bill.\\n(3)  After Parliament passes a Bill to amend this Constitution, the Speakers of the\\ntwo Houses of Parliament shall jointly submit to the President—\\n(a) the Bill, for assent and publication; and\\n(b) a certificate that the Bill has been passed by Parliament in accordance\\nwith this Article.\\n(4)  Subject to clause (5), the President shall assent to the Bill and cause it to be\\npublished within thirty days after the Bill is enacted by Parliament.\\n(5)  If a Bill to amend this Constitution proposes an amendment relating to a\\nmatter specified in Article 255(1)—\\n(a) the President shall, before assenting to the Bill, request the\\nIndependent Electoral and Boundaries Commission to conduct, within\\nninety days, a national referendum for approval of the Bill; and\\n(b) within thirty days after the chairperson of the Independent Electoral\\nand Boundaries Commission has certified to the President that the Bill\\nhas been approved in accordance with Article 255(2), the President shall\\nassent to the Bill and cause it to be published.\\n',\n",
       "  'chapter': 'Chapter 16: AMENDMENT OF THIS CONSTITUTION',\n",
       "  'part': '',\n",
       "  'number': 256}]"
      ]
     },
     "execution_count": 12,
     "metadata": {},
     "output_type": "execute_result"
    }
   ],
   "source": [
    "search(evaluation_data[0]['question'])"
   ]
  },
  {
   "cell_type": "markdown",
   "id": "fa630a59-033c-4779-b594-e845fc4fb98a",
   "metadata": {},
   "source": [
    "We'll determine the relevance of each set of results by indicating which of the results is the correct answer as per the evaluation data:"
   ]
  },
  {
   "cell_type": "code",
   "execution_count": 13,
   "id": "9c128794-e675-4c21-95e8-39547eacc207",
   "metadata": {},
   "outputs": [
    {
     "name": "stderr",
     "output_type": "stream",
     "text": [
      "100%|██████████████████████████████████████████████████████████████| 1317/1317 [00:21<00:00, 60.83it/s]\n"
     ]
    }
   ],
   "source": [
    "from tqdm import tqdm\n",
    "relevance = []\n",
    "\n",
    "for q in tqdm(evaluation_data):\n",
    "    results = search(q['question'])\n",
    "    hits = [result['number'] == q['article_number'] for result in results]\n",
    "    relevance.append(hits)"
   ]
  },
  {
   "cell_type": "markdown",
   "id": "d1da1d8b-3ff8-45a4-9b84-2be3d3244c09",
   "metadata": {},
   "source": [
    "The results for the first few questions, showing where the expected response is in the 5 responses:"
   ]
  },
  {
   "cell_type": "code",
   "execution_count": 14,
   "id": "a0349066-f296-4661-b973-af294a5c6664",
   "metadata": {},
   "outputs": [
    {
     "data": {
      "text/plain": [
       "[[False, False, False, True, False],\n",
       " [True, False, False, False, False],\n",
       " [False, False, True, False, False],\n",
       " [True, False, False, False, False],\n",
       " [True, False, False, False, False],\n",
       " [False, False, False, False, False],\n",
       " [True, False, False, False, False]]"
      ]
     },
     "execution_count": 14,
     "metadata": {},
     "output_type": "execute_result"
    }
   ],
   "source": [
    "relevance[:7]"
   ]
  },
  {
   "cell_type": "markdown",
   "id": "7f74ebf3-1da7-4015-bcf8-3745a4ec7643",
   "metadata": {},
   "source": [
    "### Hit Rate"
   ]
  },
  {
   "cell_type": "markdown",
   "id": "ead45bcf-975f-4e8a-be33-19bd77b663c2",
   "metadata": {},
   "source": [
    "The hit rate metric will be defined as any time the correct answer to the question is found within the first five results"
   ]
  },
  {
   "cell_type": "code",
   "execution_count": 15,
   "id": "9e7ce427-75d7-490b-8ba4-15d2bac26eb1",
   "metadata": {},
   "outputs": [],
   "source": [
    "def hit_rate(relevance):\n",
    "    target_found = [any(results) for results in relevance]\n",
    "    hit_count = sum(target_found)\n",
    "    return hit_count / len(relevance)"
   ]
  },
  {
   "cell_type": "code",
   "execution_count": 16,
   "id": "cf544984-d58e-4109-b924-62b885e5c0a0",
   "metadata": {},
   "outputs": [
    {
     "data": {
      "text/plain": [
       "0.8571428571428571"
      ]
     },
     "execution_count": 16,
     "metadata": {},
     "output_type": "execute_result"
    }
   ],
   "source": [
    "hit_rate(relevance[:7])"
   ]
  },
  {
   "cell_type": "markdown",
   "id": "97504d20-cc6c-4be0-8af8-928a2b919c63",
   "metadata": {},
   "source": [
    "There's an 86% hit rate for the first 5 questions."
   ]
  },
  {
   "cell_type": "markdown",
   "id": "db4de493-4784-4184-829b-ab945e875ac2",
   "metadata": {},
   "source": [
    "### Mean Reciprocal Rank"
   ]
  },
  {
   "cell_type": "markdown",
   "id": "347bce31-7e21-4cd5-9464-532eaf1f8e21",
   "metadata": {},
   "source": [
    "MRR shows how highly ranked the expected response it. The higher it is ranked in the set of results, the greater the score.\n",
    "\n",
    "The reciprocal rank is calculcated based on the position of the correct response in the set of results, as 1/N where N is the position. First position would result in 1, second 1/2, third 1/3 and so on. This is then averaged over all the questions."
   ]
  },
  {
   "cell_type": "code",
   "execution_count": 17,
   "id": "9f0af251-059d-4690-b65f-2b5601d1c82d",
   "metadata": {},
   "outputs": [],
   "source": [
    "def rr(question_results):\n",
    "    for i, hit in enumerate(question_results):\n",
    "        if hit:\n",
    "            return 1/(i + 1)\n",
    "    return 0\n",
    "\n",
    "def mrr(relevance):\n",
    "    scores = [rr(hits) for hits in relevance]\n",
    "    total = sum(scores)\n",
    "    return total / len(relevance)"
   ]
  },
  {
   "cell_type": "markdown",
   "id": "84451452-7a6c-447f-bab9-d52ff77912f8",
   "metadata": {},
   "source": [
    "Calculating MRR for the first few results:"
   ]
  },
  {
   "cell_type": "code",
   "execution_count": 18,
   "id": "f81bd2db-9439-40f1-8839-7071302c1a43",
   "metadata": {},
   "outputs": [
    {
     "data": {
      "text/plain": [
       "0.6547619047619048"
      ]
     },
     "execution_count": 18,
     "metadata": {},
     "output_type": "execute_result"
    }
   ],
   "source": [
    "mrr(relevance[:7])"
   ]
  },
  {
   "cell_type": "markdown",
   "id": "98608972-310b-4fe2-9cdc-f20a9a2186ad",
   "metadata": {},
   "source": [
    "Calculating the two metrics over all questions:"
   ]
  },
  {
   "cell_type": "code",
   "execution_count": 19,
   "id": "e223bdd2-5f6d-4a89-a6e5-ea1f4bbe8934",
   "metadata": {},
   "outputs": [],
   "source": [
    "def score(relevance):\n",
    "    hit_rate_score = hit_rate(relevance)\n",
    "    mrr_score = mrr(relevance)\n",
    "    avg_score = (hit_rate_score + mrr_score) / 2\n",
    "    return {'hit_rate': hit_rate_score, 'mrr': mrr_score, 'avg_score': avg_score}"
   ]
  },
  {
   "cell_type": "code",
   "execution_count": 20,
   "id": "9ff3d29f-33b4-479f-9281-ad2e819bb946",
   "metadata": {},
   "outputs": [
    {
     "data": {
      "text/plain": [
       "{'hit_rate': 0.5535307517084282,\n",
       " 'mrr': 0.41580612503163755,\n",
       " 'avg_score': 0.48466843837003293}"
      ]
     },
     "execution_count": 20,
     "metadata": {},
     "output_type": "execute_result"
    }
   ],
   "source": [
    "score(relevance)"
   ]
  },
  {
   "cell_type": "markdown",
   "id": "c28e3c16-ed94-4387-b27f-02238dd23e9f",
   "metadata": {},
   "source": [
    "## Lexical Search - Whoosh"
   ]
  },
  {
   "cell_type": "markdown",
   "id": "4bd3641f-faee-47f2-8e91-0e34e75f423b",
   "metadata": {},
   "source": [
    "[Whoosh][5] is a pure python embeddable search library with many useful features, striking a balance between the barebones minsearch library used previously and heavyweight search solutions like elastic search.\n",
    "\n",
    "Install it:\n",
    "\n",
    "[5]: https://github.com/Sygil-Dev/whoosh-reloaded"
   ]
  },
  {
   "cell_type": "code",
   "execution_count": 21,
   "id": "c691ea45-ef67-4fc3-8c72-79e2d7d685b1",
   "metadata": {},
   "outputs": [
    {
     "name": "stdout",
     "output_type": "stream",
     "text": [
      "\n",
      "\u001b[1m[\u001b[0m\u001b[34;49mnotice\u001b[0m\u001b[1;39;49m]\u001b[0m\u001b[39;49m A new release of pip is available: \u001b[0m\u001b[31;49m24.2\u001b[0m\u001b[39;49m -> \u001b[0m\u001b[32;49m24.3.1\u001b[0m\n",
      "\u001b[1m[\u001b[0m\u001b[34;49mnotice\u001b[0m\u001b[1;39;49m]\u001b[0m\u001b[39;49m To update, run: \u001b[0m\u001b[32;49mpip install --upgrade pip\u001b[0m\n"
     ]
    }
   ],
   "source": [
    "!pip install -q whoosh-reloaded"
   ]
  },
  {
   "cell_type": "markdown",
   "id": "ea40c0b6-2b81-43d5-8fe8-3db4a936fa95",
   "metadata": {},
   "source": [
    "Create an index:"
   ]
  },
  {
   "cell_type": "code",
   "execution_count": 22,
   "id": "fd0e8cdd-de6f-4f8d-8304-246f0a8daa79",
   "metadata": {},
   "outputs": [
    {
     "name": "stderr",
     "output_type": "stream",
     "text": [
      "100%|███████████████████████████████████████████████████████████████| 264/264 [00:00<00:00, 338.28it/s]\n"
     ]
    }
   ],
   "source": [
    "from pathlib import Path\n",
    "\n",
    "from whoosh import fields as F\n",
    "from whoosh import index\n",
    "from whoosh import qparser\n",
    "\n",
    "schema = F.Schema(\n",
    "    title=F.TEXT(stored=True),\n",
    "    clauses=F.TEXT(stored=True),\n",
    "    chapter=F.TEXT(stored=True),\n",
    "    part=F.TEXT(stored=True),\n",
    "    number=F.STORED,\n",
    ")\n",
    "\n",
    "index_dirname = \"whoosh_index\"\n",
    "p = Path(index_dirname)\n",
    "if not p.exists():\n",
    "    p.mkdir()\n",
    "\n",
    "doc_index = index.create_in(index_dirname, schema)\n",
    "writer = doc_index.writer()\n",
    "for doc in tqdm(documents):\n",
    "    writer.add_document(**doc)\n",
    "writer.commit()"
   ]
  },
  {
   "cell_type": "markdown",
   "id": "46df2d59-6df0-4f4f-b3d8-872fb47ce29e",
   "metadata": {},
   "source": [
    "Create a search function:"
   ]
  },
  {
   "cell_type": "code",
   "execution_count": 23,
   "id": "ddccfa12-9a2c-402f-9650-531065c6e007",
   "metadata": {},
   "outputs": [],
   "source": [
    "def whoosh_search(question):\n",
    "    with doc_index.searcher() as searcher:\n",
    "        parser = qparser.MultifieldParser(['title', 'clauses', 'chapter', 'part'], schema=schema, group=qparser.OrGroup)\n",
    "        query = parser.parse(question)\n",
    "        results = searcher.search(query, limit=5)\n",
    "        results = [dict(r) for r in results]\n",
    "    return results"
   ]
  },
  {
   "cell_type": "code",
   "execution_count": 24,
   "id": "5ca41b28-5a1b-4094-aea5-13c38fc6f258",
   "metadata": {},
   "outputs": [
    {
     "data": {
      "text/plain": [
       "'Who holds all sovereign power in Kenya according to this Constitution?'"
      ]
     },
     "execution_count": 24,
     "metadata": {},
     "output_type": "execute_result"
    }
   ],
   "source": [
    "sample_question = evaluation_data[0]['question']\n",
    "sample_question"
   ]
  },
  {
   "cell_type": "code",
   "execution_count": 25,
   "id": "36ec4140-a84d-4f85-b8a2-69ad3638c553",
   "metadata": {},
   "outputs": [
    {
     "data": {
      "text/plain": [
       "[{'chapter': 'Chapter 1: SOVEREIGNTY OF THE PEOPLE AND SUPREMACY OF THIS CONSTITUTION',\n",
       "  'clauses': '(1)  All sovereign power belongs to the people of Kenya and shall be exercised\\nonly in accordance with this Constitution.\\n(2)  The people may exercise their sovereign power either directly or through their\\ndemocratically elected representatives.\\n(3)  Sovereign power under this Constitution is delegated to the following State\\norgans, which shall perform their functions in accordance with this Constitution—\\n(a) Parliament and the legislative assemblies in the county governments;\\n(b) the national executive and the executive structures in the county\\ngovernments; and\\n(c) the Judiciary and independent tribunals.\\n(4)  The sovereign power of the people is exercised at—\\n(a) the national level; and\\n(b) the county level.\\n',\n",
       "  'number': 1,\n",
       "  'part': '',\n",
       "  'title': 'Article 1: Sovereignty of the people.'},\n",
       " {'chapter': 'Chapter 14: NATIONAL SECURITY',\n",
       "  'clauses': '(1)  There are established the Kenya Defence Forces.\\n(2)  The Kenya Defence Forces consist of—\\n(a) the Kenya Army;\\n(b) the Kenya Air Force; and\\n(c) the Kenya Navy.\\n(3)  The Kenya Defence Forces—\\n(a) are responsible for the defence and protection of the sovereignty and\\nterritorial integrity of the Republic;\\n(b) shall assist and cooperate with other authorities in situations of\\nemergency or disaster, and report to the National Assembly whenever\\ndeployed in such circumstances; and\\n(c) may be deployed to restore peace in any part of Kenya affected by unrest\\nor instability only with the approval of the National Assembly.\\n(4)  The composition of the command of the Kenya Defence Forces shall reflect\\nthe regional and ethnic diversity of the people of Kenya.\\n(5)  There is established a Defence Council.\\n(6)  The Council consist of—\\n(a) the Cabinet Secretary responsible for defence, who is the chairperson;\\n(b) the Chief of the Kenya Defence Forces;\\n(c) the three commanders of the Kenya Defence forces; and\\n(d) the Principal Secretary in the Ministry responsible for defence.\\n(7)  The Council—\\n(a) is responsible for the overall policy, control, and supervision of the\\nKenya Defence Forces; and\\n(b) performs any other functions prescribed by national legislation.\\n',\n",
       "  'number': 241,\n",
       "  'part': 'Part 2: THE KENYA DEFENCE FORCES',\n",
       "  'title': 'Article 241: Establishment of Kenya Defence Forces and Defence Council.'},\n",
       " {'chapter': 'Chapter 9: THE EXECUTIVE',\n",
       "  'clauses': '(1)  On the petition of any person, the President may exercise a power of\\nmercy in accordance with the advice of the Advisory Committee established under\\nclause (2), by—\\n(a) granting a free or conditional pardon to a person convicted of an\\noffence;\\n(b) postponing the carrying out of a punishment, either for a specified or\\nindefinite period;\\n(c) substituting a less severe form of punishment; or\\n(d) remitting all or part of a punishment.\\n(2)  There shall be an Advisory Committee on the Power of Mercy, comprising—\\n(a) the Attorney-General;\\n(b) the Cabinet Secretary responsible for correctional services; and\\n(c) at least five other members as prescribed by an Act of Parliament, none\\nof whom may be a State officer or in public service.\\n(3)  Parliament shall enact legislation to provide for—\\n(a) the tenure of the members of the Advisory Committee;\\n(b) the procedure of the Advisory Committee; and\\n(c) criteria that shall be applied by the Advisory Committee in formulating\\nits advice.\\n(4)  The Advisory Committee may take into account the views of the victims of\\nthe offence in respect of which it is considering making recommendations to the\\nPresident.\\n',\n",
       "  'number': 133,\n",
       "  'part': 'Part 2: THE PRESIDENT AND DEPUTY PRESIDENT',\n",
       "  'title': 'Article 133: Power of mercy.'},\n",
       " {'chapter': 'Chapter 2: THE REPUBLIC',\n",
       "  'clauses': '(1)  Kenya is a sovereign Republic.\\n(2)  The Republic of Kenya shall be a multi-party democratic State founded on\\nthe national values and principles of governance referred to in Article 10.\\n',\n",
       "  'number': 4,\n",
       "  'part': '',\n",
       "  'title': 'Article 4: Declaration of the Republic.'},\n",
       " {'chapter': 'Chapter 4: THE BILL OF RIGHTS',\n",
       "  'clauses': '(1)  There is established the Kenya National Human Rights and Equality\\nCommission.\\n(2)  The functions of the Commission are—\\n(a) to promote respect for human rights and develop a culture of human\\nrights in the Republic;\\n(b) to promote gender equality and equity generally and to coordinate and\\nfacilitate gender mainstreaming in national development;\\n(c) to promote the protection, and observance of human rights in public\\nand private institutions;\\n(d) to monitor, investigate and report on the observance of human rights in\\nall spheres of life in the Republic, including observance by the national\\nsecurity organs;\\n(e) to receive and investigate complaints about alleged abuses of human\\nrights and take steps to secure appropriate redress where human rights\\nhave been violated;\\n(f)on its own initiative or on the basis of complaints, to investigate\\nor research a matter in respect of human rights, and make\\nrecommendations to improve the functioning of State organs;\\n(g) to act as the principal organ of the State in ensuring compliance with\\nobligations under treaties and conventions relating to human rights;\\n(h) to investigate any conduct in state affairs, or any act or omission in\\npublic administration in any sphere of government, that is alleged or\\nsuspected to be prejudicial or improper or to result in any impropriety\\nor prejudice;\\n(i) to investigate complaints of abuse of power, unfair treatment, manifest\\ninjustice or unlawful, oppressive, unfair or unresponsive official\\nconduct;\\n(j) to report on complaints investigated under paragraphs (h) and (i) and\\ntake remedial action; and\\n(k) to perform any other functions prescribed by legislation.\\n(3)  Every person has the right to complain to the Commission, alleging that\\na right or fundamental freedom in the Bill of Rights has been denied, violated or\\ninfringed, or is threatened.\\n(4)  Parliament shall enact legislation to give full effect to this Part, and any such\\nlegislation may restructure the Commission into two or more separate commissions.\\n(5)  If Parliament enacts legislation restructuring the Commission under clause\\n(4) —\\n(a) that legislation shall assign each function of the Commission specified\\nin this Article to one or the other of the successor commissions;\\n(b) each of the successor commissions shall have powers equivalent to the\\npowers of the Commission under this Article; and\\n(c) each successor commission shall be a commission within the meaning\\nof Chapter Fifteen, and shall have the status and powers of a\\ncommission under that Chapter.\\n',\n",
       "  'number': 59,\n",
       "  'part': 'Part 5: KENYA NATIONAL HUMAN RIGHTS AND EQUALITY COMMISSION',\n",
       "  'title': 'Article 59: Kenya National Human Rights and Equality Commission.'}]"
      ]
     },
     "execution_count": 25,
     "metadata": {},
     "output_type": "execute_result"
    }
   ],
   "source": [
    "whoosh_search(sample_question)"
   ]
  },
  {
   "cell_type": "markdown",
   "id": "a2392b46-046a-48e7-9262-7c7a7d532c1a",
   "metadata": {},
   "source": [
    "Next step is to determine relevance and calculate the evaluation metrics:"
   ]
  },
  {
   "cell_type": "code",
   "execution_count": 26,
   "id": "f30f266c-2770-4c83-add4-c8c005d3ad5f",
   "metadata": {},
   "outputs": [],
   "source": [
    "def get_relevance(evaluation_data, searcher):\n",
    "    relevance = []\n",
    "    for q in tqdm(evaluation_data):\n",
    "        results = searcher(q['question'])\n",
    "        hits = [result['number'] == q['article_number'] for result in results]\n",
    "        relevance.append(hits)\n",
    "    return relevance"
   ]
  },
  {
   "cell_type": "code",
   "execution_count": 27,
   "id": "6d141e03-2c33-4d03-b58e-660e86e3e5aa",
   "metadata": {},
   "outputs": [
    {
     "name": "stderr",
     "output_type": "stream",
     "text": [
      "100%|██████████████████████████████████████████████████████████████| 1317/1317 [00:33<00:00, 39.39it/s]\n"
     ]
    }
   ],
   "source": [
    "relevance = get_relevance(evaluation_data, whoosh_search)"
   ]
  },
  {
   "cell_type": "code",
   "execution_count": 28,
   "id": "763f4e8a-5b0f-4e49-b456-37ab26244694",
   "metadata": {},
   "outputs": [
    {
     "data": {
      "text/plain": [
       "{'hit_rate': 0.8116932422171602,\n",
       " 'mrr': 0.6781700835231587,\n",
       " 'avg_score': 0.7449316628701594}"
      ]
     },
     "execution_count": 28,
     "metadata": {},
     "output_type": "execute_result"
    }
   ],
   "source": [
    "score(relevance)"
   ]
  },
  {
   "cell_type": "markdown",
   "id": "96487903-5f5a-48ae-a52a-c3037e4f9f75",
   "metadata": {},
   "source": [
    "Using a production ready library has improved our score for lexical search."
   ]
  },
  {
   "cell_type": "markdown",
   "id": "6f036fda-c794-4c7d-ad0e-fc5f0f84776c",
   "metadata": {},
   "source": [
    "## Semantic Search - Sentence Transformers"
   ]
  },
  {
   "cell_type": "markdown",
   "id": "e9263f1f-97e7-4de4-8fb6-1dfe4497ea8a",
   "metadata": {},
   "source": [
    "[Sentence transformers][8] is a python library that provides similarity search functionality based on BERT embeddings.\n",
    "\n",
    "[8]: https://sbert.net/\n",
    "\n",
    "Installation:"
   ]
  },
  {
   "cell_type": "code",
   "execution_count": 29,
   "id": "bd6d39de-58c1-434a-b51a-81656d2290cb",
   "metadata": {},
   "outputs": [],
   "source": [
    "!pip install -q sentence-transformers --extra-index-url https://download.pytorch.org/whl/cpu"
   ]
  },
  {
   "cell_type": "markdown",
   "id": "f15a3049-747f-40db-a8c8-987f16592290",
   "metadata": {},
   "source": [
    "We'll use a model from trained on millions of question-answer pairs and optimized for a good balance between speed and accuracy.\n",
    "\n",
    "https://sbert.net/docs/sentence_transformer/pretrained_models.html#multi-qa-models"
   ]
  },
  {
   "cell_type": "code",
   "execution_count": 29,
   "id": "3685a54d-f943-4a75-a912-78e5e3c042bf",
   "metadata": {},
   "outputs": [
    {
     "name": "stderr",
     "output_type": "stream",
     "text": [
      "/home/krm/projects/katiba-chat/notebooks/.venv/lib/python3.12/site-packages/sentence_transformers/cross_encoder/CrossEncoder.py:13: TqdmWarning: IProgress not found. Please update jupyter and ipywidgets. See https://ipywidgets.readthedocs.io/en/stable/user_install.html\n",
      "  from tqdm.autonotebook import tqdm, trange\n"
     ]
    }
   ],
   "source": [
    "from sentence_transformers import SentenceTransformer, util\n",
    "\n",
    "model = SentenceTransformer(\"sentence-transformers/multi-qa-MiniLM-L6-cos-v1\")"
   ]
  },
  {
   "cell_type": "markdown",
   "id": "57512f60-26b6-4682-929a-a611f2a59eec",
   "metadata": {},
   "source": [
    "Transform the documents and query into embeddings:"
   ]
  },
  {
   "cell_type": "code",
   "execution_count": 30,
   "id": "3dd703ab-49bf-405a-aad3-23039ae99a46",
   "metadata": {},
   "outputs": [],
   "source": [
    "texts = [\n",
    "    \"\"\"\n",
    "    chapter: {chapter}\n",
    "    part: {part}\n",
    "    title: {title}\n",
    "    clauses: {clauses}\n",
    "    \"\"\".strip().format(**doc) for doc in documents\n",
    "]"
   ]
  },
  {
   "cell_type": "code",
   "execution_count": 31,
   "id": "7195ad26-c1fc-455f-9292-ef86b85ed9a9",
   "metadata": {},
   "outputs": [
    {
     "name": "stdout",
     "output_type": "stream",
     "text": [
      "chapter: Chapter 4: THE BILL OF RIGHTS\n",
      "    part: Part 1: GENERAL PROVISIONS TO THE BILL OF RIGHTS\n",
      "    title: Article 21: Implementation of rights and fundamental freedoms.\n",
      "    clauses: (1)  It is a fundamental duty of the State and every State organ to observe,\n",
      "respect, protect, promote and fulfil the rights and fundamental freedoms in the Bill\n",
      "of Rights.\n",
      "(2)  The State shall take legislative, policy and other measures, including the\n",
      "setting of standards, to achieve the progressive realisation of the rights guaranteed\n",
      "under Article 43.\n",
      "(3)  All State organs and all public officers have the duty to address the needs\n",
      "of vulnerable groups within society, including women, older members of society,\n",
      "persons with disabilities, children, youth, members of minority or marginalised\n",
      "communities, and members of particular ethnic, religious or cultural communities.\n",
      "(4)  The State shall enact and implement legislation to fulfil its international\n",
      "obligations in respect of human rights and fundamental freedoms.\n",
      "\n"
     ]
    }
   ],
   "source": [
    "print(texts[20])"
   ]
  },
  {
   "cell_type": "code",
   "execution_count": 32,
   "id": "d0c89f50-763a-4b55-8c33-332ed54194d3",
   "metadata": {},
   "outputs": [],
   "source": [
    "document_embeddings = model.encode(texts)"
   ]
  },
  {
   "cell_type": "markdown",
   "id": "d6f3a8c3-7e67-422a-b4c5-e438009bfec1",
   "metadata": {},
   "source": [
    "Then create and test the search function:"
   ]
  },
  {
   "cell_type": "code",
   "execution_count": 33,
   "id": "bc17b234-5631-4ebb-aedd-d195f6bb7b53",
   "metadata": {},
   "outputs": [],
   "source": [
    "def sentence_transformers_search(query):\n",
    "    query_embeddings = model.encode(query)\n",
    "    results = util.semantic_search(query_embeddings, document_embeddings, top_k=5)\n",
    "    indices = [r['corpus_id'] for r in results[0]]\n",
    "    matching_docs = [documents[idx] for idx in indices]\n",
    "    return matching_docs"
   ]
  },
  {
   "cell_type": "code",
   "execution_count": 34,
   "id": "36428aa7-74fb-416a-a231-3565c983607f",
   "metadata": {},
   "outputs": [
    {
     "data": {
      "text/plain": [
       "'Who holds all sovereign power in Kenya according to this Constitution?'"
      ]
     },
     "execution_count": 34,
     "metadata": {},
     "output_type": "execute_result"
    }
   ],
   "source": [
    "query = evaluation_data[0]['question']; query"
   ]
  },
  {
   "cell_type": "code",
   "execution_count": 35,
   "id": "1e07d6d5-6a51-4995-a6d7-05a96ea784e9",
   "metadata": {},
   "outputs": [
    {
     "data": {
      "text/plain": [
       "[{'title': 'Article 1: Sovereignty of the people.',\n",
       "  'clauses': '(1)  All sovereign power belongs to the people of Kenya and shall be exercised\\nonly in accordance with this Constitution.\\n(2)  The people may exercise their sovereign power either directly or through their\\ndemocratically elected representatives.\\n(3)  Sovereign power under this Constitution is delegated to the following State\\norgans, which shall perform their functions in accordance with this Constitution—\\n(a) Parliament and the legislative assemblies in the county governments;\\n(b) the national executive and the executive structures in the county\\ngovernments; and\\n(c) the Judiciary and independent tribunals.\\n(4)  The sovereign power of the people is exercised at—\\n(a) the national level; and\\n(b) the county level.\\n',\n",
       "  'chapter': 'Chapter 1: SOVEREIGNTY OF THE PEOPLE AND SUPREMACY OF THIS CONSTITUTION',\n",
       "  'part': '',\n",
       "  'number': 1},\n",
       " {'title': 'Article 2: Supremacy of this Constitution.',\n",
       "  'clauses': '(1)  This Constitution is the supreme law of the Republic and binds all persons\\nand all State organs at both levels of government.\\n(2)  No person may claim or exercise State authority except as authorised under\\nthis Constitution.\\n(3)  The validity or legality of this Constitution is not subject to challenge by or\\nbefore any court or other State organ.\\n(4)  Any law, including customary law, that is inconsistent with this Constitution\\nis void to the extent of the inconsistency, and any act or omission in contravention\\nof this Constitution is invalid.\\n(5)  The general rules of international law shall form part of the law of Kenya.\\n(6)  Any treaty or convention ratified by Kenya shall form part of the law of Kenya\\nunder this Constitution.\\n',\n",
       "  'chapter': 'Chapter 1: SOVEREIGNTY OF THE PEOPLE AND SUPREMACY OF THIS CONSTITUTION',\n",
       "  'part': '',\n",
       "  'number': 2},\n",
       " {'title': 'Article 4: Declaration of the Republic.',\n",
       "  'clauses': '(1)  Kenya is a sovereign Republic.\\n(2)  The Republic of Kenya shall be a multi-party democratic State founded on\\nthe national values and principles of governance referred to in Article 10.\\n',\n",
       "  'chapter': 'Chapter 2: THE REPUBLIC',\n",
       "  'part': '',\n",
       "  'number': 4},\n",
       " {'title': 'Article 94: Role of Parliament.',\n",
       "  'clauses': '(1)  The legislative authority of the Republic is derived from the people and,\\nat the national level, is vested in and exercised by Parliament.\\n(2)  Parliament manifests the diversity of the nation, represents the will of the\\npeople, and exercises their sovereignty.\\n(3)  Parliament may consider and pass amendments to this Constitution, and alter\\ncounty boundaries as provided for in this Constitution.\\n(4)  Parliament shall protect this Constitution and promote the democratic\\ngovernance of the Republic.\\n(5)  No person or body, other than Parliament, has the power to make\\nprovision having the force of law in Kenya except under authority conferred by this\\nConstitution or by legislation.\\n(6)  An Act of Parliament, or legislation of a county, that confers on any State\\norgan, State officer or person the authority to make provision having the force of\\nlaw in Kenya, as contemplated in clause (5), shall expressly specify the purpose\\nand objectives for which that authority is conferred, the limits of the authority, the\\nnature and scope of the law that may be made, and the principles and standards\\napplicable to the law made under the authority.\\n',\n",
       "  'chapter': 'Chapter 8: THE LEGISLATURE',\n",
       "  'part': 'Part 1: ESTABLISHMENT AND ROLE OF PARLIAMENT',\n",
       "  'number': 94},\n",
       " {'title': 'Article 131: Authority of the President.',\n",
       "  'clauses': '(1)  The President—\\n(a) is the Head of State and Government;\\n(b) exercises the executive authority of the Republic, with the assistance of\\nthe Deputy President and Cabinet Secretaries;\\n(c) is the Commander-in-Chief of the Kenya Defence Forces;\\n(d) is the chairperson of the National Security Council; and\\n(e) is a symbol of national unity.\\n(2)  The President shall—\\n(a) respect, uphold and safeguard this Constitution;\\n(b) safeguard the sovereignty of the Republic;\\n(c) promote and enhance the unity of the nation;\\n(d) promote respect for the diversity of the people and communities of\\nKenya; and\\n(e) ensure the protection of human rights and fundamental freedoms and\\nthe rule of law.\\n(3)  The President shall not hold any other State or public office.\\n',\n",
       "  'chapter': 'Chapter 9: THE EXECUTIVE',\n",
       "  'part': 'Part 2: THE PRESIDENT AND DEPUTY PRESIDENT',\n",
       "  'number': 131}]"
      ]
     },
     "execution_count": 35,
     "metadata": {},
     "output_type": "execute_result"
    }
   ],
   "source": [
    "sentence_transformers_search(query)"
   ]
  },
  {
   "cell_type": "markdown",
   "id": "0353c0ee-054e-4553-bae7-093b1dd7343c",
   "metadata": {},
   "source": [
    "Next, we evaluate this implementation:"
   ]
  },
  {
   "cell_type": "code",
   "execution_count": 36,
   "id": "df4578c3-3250-4543-b4ed-495f679f05d7",
   "metadata": {},
   "outputs": [
    {
     "name": "stderr",
     "output_type": "stream",
     "text": [
      "100%|██████████████████████████████████████████████████████████████| 1317/1317 [00:58<00:00, 22.58it/s]\n"
     ]
    },
    {
     "data": {
      "text/plain": [
       "{'hit_rate': 0.8587699316628702,\n",
       " 'mrr': 0.7339281194634271,\n",
       " 'avg_score': 0.7963490255631487}"
      ]
     },
     "execution_count": 36,
     "metadata": {},
     "output_type": "execute_result"
    }
   ],
   "source": [
    "score(get_relevance(evaluation_data, sentence_transformers_search))"
   ]
  },
  {
   "cell_type": "markdown",
   "id": "389eeeb4-c84c-464c-bdc0-d0d45ac07921",
   "metadata": {},
   "source": [
    "This shows an improved score over lexical search."
   ]
  },
  {
   "cell_type": "markdown",
   "id": "66f15fc9-a631-4327-a381-046fa6f004c0",
   "metadata": {},
   "source": [
    "## Hybrid Retrieval"
   ]
  },
  {
   "cell_type": "markdown",
   "id": "a5e991be-6d86-4cfd-a5a8-bbe05fb0c925",
   "metadata": {},
   "source": [
    "With hybrid retrieval, we'll use a combination of lexical and semantic search and re-rank the results based on a combined score of both approaches."
   ]
  },
  {
   "cell_type": "markdown",
   "id": "c4c6b284-5729-4ba3-8463-9f8fe64d5297",
   "metadata": {},
   "source": [
    "The technique is known as **Reciprocal Rank Fusion (RRF)**. For each document in the results, we calculate a score based on what position they rank for a given query, then add up the scores for the two retrieval approaches."
   ]
  },
  {
   "cell_type": "markdown",
   "id": "26e5a438-24b2-4db3-81ca-20644841ca28",
   "metadata": {},
   "source": [
    "The score for a particular document in a specific retrieval is calculated by the formula: _1/(k + r(d))_, where _r(d)_ is the rank of the document in the retrieval results. The higher it ranks, the larger the score. _k_ is a constant that is typically set to 60. Some properties of this formula are explained [here][9].\n",
    "\n",
    "[9]: https://medium.com/@devalshah1619/mathematical-intuition-behind-reciprocal-rank-fusion-rrf-explained-in-2-mins-002df0cc5e2a"
   ]
  },
  {
   "cell_type": "markdown",
   "id": "d6c12f2e-1e3c-4c32-a6b8-641626ff3db3",
   "metadata": {},
   "source": [
    "Implementing the rrf score:"
   ]
  },
  {
   "cell_type": "code",
   "execution_count": 37,
   "id": "3bb5e032-8fe3-430a-8974-ff37fa9fa8b7",
   "metadata": {},
   "outputs": [],
   "source": [
    "def rrf_score(rank, k=60):\n",
    "    return 1 / (k + rank)"
   ]
  },
  {
   "cell_type": "markdown",
   "id": "3de2eded-a4ed-4749-a911-f57a91df9f89",
   "metadata": {},
   "source": [
    "The score decreases with the rank:"
   ]
  },
  {
   "cell_type": "code",
   "execution_count": 38,
   "id": "38cd5c38-f791-4d79-91ff-18a410c09597",
   "metadata": {},
   "outputs": [
    {
     "data": {
      "text/plain": [
       "[0.01639344262295082,\n",
       " 0.016129032258064516,\n",
       " 0.015873015873015872,\n",
       " 0.015625,\n",
       " 0.015384615384615385]"
      ]
     },
     "execution_count": 38,
     "metadata": {},
     "output_type": "execute_result"
    }
   ],
   "source": [
    "[rrf_score(i) for i in range(1, 6)]"
   ]
  },
  {
   "cell_type": "markdown",
   "id": "c08dbda4-9340-480e-bdea-e0c65c29dc66",
   "metadata": {},
   "source": [
    "Combining the scores:"
   ]
  },
  {
   "cell_type": "code",
   "execution_count": 39,
   "id": "30a7ab75-fbad-4f56-a2ee-fbf1bdf58938",
   "metadata": {},
   "outputs": [],
   "source": [
    "def rrf(ranked_results, scores):\n",
    "    for i, result in enumerate(ranked_results):\n",
    "        doc_id = result['number']\n",
    "        scores[doc_id] = rrf_score(i + 1) + scores.get(doc_id, 0)"
   ]
  },
  {
   "cell_type": "markdown",
   "id": "0db89495-46e0-4cd3-8cb0-bad918dcd3bd",
   "metadata": {},
   "source": [
    "We implement a combined search and rerank the documents using RRF:"
   ]
  },
  {
   "cell_type": "code",
   "execution_count": 40,
   "id": "8c01dbf2-3269-412f-81b0-aff146926cd2",
   "metadata": {},
   "outputs": [],
   "source": [
    "def hybrid_search(query, lexical_searcher, semantic_searcher):\n",
    "    lexical_search_results = lexical_searcher(query)\n",
    "    semantic_search_results = semantic_searcher(query)\n",
    "\n",
    "    combined_scores = {}\n",
    "    rrf(lexical_search_results, combined_scores)\n",
    "    rrf(semantic_search_results, combined_scores)\n",
    "\n",
    "    # re-rank the results based on score\n",
    "    reranked_scores = sorted(combined_scores.items(), key=lambda x: x[1], reverse=True)\n",
    "    final_results = []\n",
    "    for doc_id, score in reranked_scores[:5]:\n",
    "        # doc id is article number, we can access article by index\n",
    "        final_results.append(documents[doc_id - 1])\n",
    "    return final_results        "
   ]
  },
  {
   "cell_type": "markdown",
   "id": "4156fe16-b27f-492f-b1a2-a82bc8b6c004",
   "metadata": {},
   "source": [
    "### Hybrid Retrieval - Whoosh and Sentence Transformers"
   ]
  },
  {
   "cell_type": "code",
   "execution_count": 41,
   "id": "24256fd7-8ee8-4144-a76f-0fbcd2cbf882",
   "metadata": {},
   "outputs": [
    {
     "data": {
      "text/plain": [
       "'Who holds all sovereign power in Kenya according to this Constitution?'"
      ]
     },
     "execution_count": 41,
     "metadata": {},
     "output_type": "execute_result"
    }
   ],
   "source": [
    "q = evaluation_data[0]['question']; q"
   ]
  },
  {
   "cell_type": "code",
   "execution_count": 43,
   "id": "50bbd10c-b0e9-49e5-80ef-26c1f71ecf44",
   "metadata": {},
   "outputs": [
    {
     "data": {
      "text/plain": [
       "[{'title': 'Article 1: Sovereignty of the people.',\n",
       "  'clauses': '(1)  All sovereign power belongs to the people of Kenya and shall be exercised\\nonly in accordance with this Constitution.\\n(2)  The people may exercise their sovereign power either directly or through their\\ndemocratically elected representatives.\\n(3)  Sovereign power under this Constitution is delegated to the following State\\norgans, which shall perform their functions in accordance with this Constitution—\\n(a) Parliament and the legislative assemblies in the county governments;\\n(b) the national executive and the executive structures in the county\\ngovernments; and\\n(c) the Judiciary and independent tribunals.\\n(4)  The sovereign power of the people is exercised at—\\n(a) the national level; and\\n(b) the county level.\\n',\n",
       "  'chapter': 'Chapter 1: SOVEREIGNTY OF THE PEOPLE AND SUPREMACY OF THIS CONSTITUTION',\n",
       "  'part': '',\n",
       "  'number': 1},\n",
       " {'title': 'Article 4: Declaration of the Republic.',\n",
       "  'clauses': '(1)  Kenya is a sovereign Republic.\\n(2)  The Republic of Kenya shall be a multi-party democratic State founded on\\nthe national values and principles of governance referred to in Article 10.\\n',\n",
       "  'chapter': 'Chapter 2: THE REPUBLIC',\n",
       "  'part': '',\n",
       "  'number': 4},\n",
       " {'title': 'Article 241: Establishment of Kenya Defence Forces and Defence Council.',\n",
       "  'clauses': '(1)  There are established the Kenya Defence Forces.\\n(2)  The Kenya Defence Forces consist of—\\n(a) the Kenya Army;\\n(b) the Kenya Air Force; and\\n(c) the Kenya Navy.\\n(3)  The Kenya Defence Forces—\\n(a) are responsible for the defence and protection of the sovereignty and\\nterritorial integrity of the Republic;\\n(b) shall assist and cooperate with other authorities in situations of\\nemergency or disaster, and report to the National Assembly whenever\\ndeployed in such circumstances; and\\n(c) may be deployed to restore peace in any part of Kenya affected by unrest\\nor instability only with the approval of the National Assembly.\\n(4)  The composition of the command of the Kenya Defence Forces shall reflect\\nthe regional and ethnic diversity of the people of Kenya.\\n(5)  There is established a Defence Council.\\n(6)  The Council consist of—\\n(a) the Cabinet Secretary responsible for defence, who is the chairperson;\\n(b) the Chief of the Kenya Defence Forces;\\n(c) the three commanders of the Kenya Defence forces; and\\n(d) the Principal Secretary in the Ministry responsible for defence.\\n(7)  The Council—\\n(a) is responsible for the overall policy, control, and supervision of the\\nKenya Defence Forces; and\\n(b) performs any other functions prescribed by national legislation.\\n',\n",
       "  'chapter': 'Chapter 14: NATIONAL SECURITY',\n",
       "  'part': 'Part 2: THE KENYA DEFENCE FORCES',\n",
       "  'number': 241},\n",
       " {'title': 'Article 2: Supremacy of this Constitution.',\n",
       "  'clauses': '(1)  This Constitution is the supreme law of the Republic and binds all persons\\nand all State organs at both levels of government.\\n(2)  No person may claim or exercise State authority except as authorised under\\nthis Constitution.\\n(3)  The validity or legality of this Constitution is not subject to challenge by or\\nbefore any court or other State organ.\\n(4)  Any law, including customary law, that is inconsistent with this Constitution\\nis void to the extent of the inconsistency, and any act or omission in contravention\\nof this Constitution is invalid.\\n(5)  The general rules of international law shall form part of the law of Kenya.\\n(6)  Any treaty or convention ratified by Kenya shall form part of the law of Kenya\\nunder this Constitution.\\n',\n",
       "  'chapter': 'Chapter 1: SOVEREIGNTY OF THE PEOPLE AND SUPREMACY OF THIS CONSTITUTION',\n",
       "  'part': '',\n",
       "  'number': 2},\n",
       " {'title': 'Article 133: Power of mercy.',\n",
       "  'clauses': '(1)  On the petition of any person, the President may exercise a power of\\nmercy in accordance with the advice of the Advisory Committee established under\\nclause (2), by—\\n(a) granting a free or conditional pardon to a person convicted of an\\noffence;\\n(b) postponing the carrying out of a punishment, either for a specified or\\nindefinite period;\\n(c) substituting a less severe form of punishment; or\\n(d) remitting all or part of a punishment.\\n(2)  There shall be an Advisory Committee on the Power of Mercy, comprising—\\n(a) the Attorney-General;\\n(b) the Cabinet Secretary responsible for correctional services; and\\n(c) at least five other members as prescribed by an Act of Parliament, none\\nof whom may be a State officer or in public service.\\n(3)  Parliament shall enact legislation to provide for—\\n(a) the tenure of the members of the Advisory Committee;\\n(b) the procedure of the Advisory Committee; and\\n(c) criteria that shall be applied by the Advisory Committee in formulating\\nits advice.\\n(4)  The Advisory Committee may take into account the views of the victims of\\nthe offence in respect of which it is considering making recommendations to the\\nPresident.\\n',\n",
       "  'chapter': 'Chapter 9: THE EXECUTIVE',\n",
       "  'part': 'Part 2: THE PRESIDENT AND DEPUTY PRESIDENT',\n",
       "  'number': 133}]"
      ]
     },
     "execution_count": 43,
     "metadata": {},
     "output_type": "execute_result"
    }
   ],
   "source": [
    "hybrid_search(q, whoosh_search, sentence_transformers_search)"
   ]
  },
  {
   "cell_type": "markdown",
   "id": "11ebba9a-9016-43ba-9a5b-10d39f7de90d",
   "metadata": {},
   "source": [
    "Evaluate it:"
   ]
  },
  {
   "cell_type": "code",
   "execution_count": 44,
   "id": "049ff3e7-44d5-4e7f-a085-36ad58b4a98c",
   "metadata": {},
   "outputs": [
    {
     "name": "stderr",
     "output_type": "stream",
     "text": [
      "100%|██████████████████████████████████████████████████████████████| 1317/1317 [01:30<00:00, 14.57it/s]\n"
     ]
    },
    {
     "data": {
      "text/plain": [
       "{'hit_rate': 0.8990129081245254,\n",
       " 'mrr': 0.743343457352569,\n",
       " 'avg_score': 0.8211781827385471}"
      ]
     },
     "execution_count": 44,
     "metadata": {},
     "output_type": "execute_result"
    }
   ],
   "source": [
    "hybrid_searcher_st = lambda query: hybrid_search(query, whoosh_search, sentence_transformers_search)\n",
    "\n",
    "score(get_relevance(evaluation_data, hybrid_searcher_st))"
   ]
  },
  {
   "cell_type": "markdown",
   "id": "354a56f6-ceb5-464a-a5ac-ed9e17008b0f",
   "metadata": {},
   "source": [
    "Hybrid retrieval gives the best score, showing that both lexical and semantic retrieval complement each other in useful ways."
   ]
  },
  {
   "cell_type": "markdown",
   "id": "b7062685-6bb2-4981-8992-5de2aa6c372b",
   "metadata": {},
   "source": [
    "## Conclusion"
   ]
  },
  {
   "cell_type": "markdown",
   "id": "3285d97b-5b1d-411c-969b-caf712fdce30",
   "metadata": {},
   "source": [
    "We used synthetic data generated by an LLM to evaluate various retrieval techniques: lexical, semantic and a hybrid of both.\n",
    "\n",
    "For evaluation, we used two metrics: **hit rate**; the proportion of evaluation results where the expected answer is within the results, and **mean reciprocal rank** (MRR); how highly ranked the expected answer was on average.\n",
    "\n",
    "Hybrid ranked highest \n",
    "\n",
    "While this indicates a good starting point in implementing a retrieval system, the evaluation data is synthetic data, so it may differ from real world data. As such, real world data may be collected and used as ground truth to more accurately evaluate and improve the retrieval process."
   ]
  }
 ],
 "metadata": {
  "kernelspec": {
   "display_name": "Python 3 (ipykernel)",
   "language": "python",
   "name": "python3"
  },
  "language_info": {
   "codemirror_mode": {
    "name": "ipython",
    "version": 3
   },
   "file_extension": ".py",
   "mimetype": "text/x-python",
   "name": "python",
   "nbconvert_exporter": "python",
   "pygments_lexer": "ipython3",
   "version": "3.12.7"
  }
 },
 "nbformat": 4,
 "nbformat_minor": 5
}
