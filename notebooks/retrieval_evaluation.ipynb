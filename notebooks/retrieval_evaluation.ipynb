{
 "cells": [
  {
   "cell_type": "markdown",
   "id": "7ffc6237-bdd9-4436-8c54-addc6c04a19e",
   "metadata": {},
   "source": [
    "# Retrieval Evaluation"
   ]
  },
  {
   "cell_type": "markdown",
   "id": "ca1d684a-dfac-4446-bc60-baa634e0316d",
   "metadata": {},
   "source": [
    "We'd like to compare several retrieval techniques to find the best for our use case.\n",
    "\n",
    "The options are:\n",
    "- lexical search\n",
    "- semantic search\n",
    "- a hybrid of lexical and semantic search"
   ]
  },
  {
   "cell_type": "markdown",
   "id": "6e427a49-7789-49cc-98d2-17ee98a92322",
   "metadata": {},
   "source": [
    "We'll use ground truth data obtained by generating questions for each of the constitution's articles by use of an LLM.\n",
    "\n",
    "We'll run these questions through the retrieval process and use two metrics for evaluating the results:\n",
    "- hit rate\n",
    "- mean reciprocal rank\n"
   ]
  },
  {
   "cell_type": "markdown",
   "id": "9e0ca92e-608b-4bd9-82e0-325ea144d56a",
   "metadata": {},
   "source": [
    "As a baseline, we'll use the tiny [minsearch][0] library which implements simple lexical search using [TF-IDF][1].\n",
    "\n",
    "[0]: https://github.com/alexeygrigorev/minsearch/blob/main/minsearch.py\n",
    "[1]: https://en.wikipedia.org/wiki/Tf%E2%80%93idf"
   ]
  },
  {
   "cell_type": "markdown",
   "id": "694b29b5-09f1-4326-a7f3-0128a9daa81c",
   "metadata": {},
   "source": [
    "## Data preparation"
   ]
  },
  {
   "cell_type": "code",
   "execution_count": 12,
   "id": "8f62f009-af1c-48af-a81a-63d64975eac7",
   "metadata": {},
   "outputs": [
    {
     "name": "stdout",
     "output_type": "stream",
     "text": [
      "Note: you may need to restart the kernel to use updated packages.\n"
     ]
    }
   ],
   "source": [
    "pip install -q pandas tqdm"
   ]
  },
  {
   "cell_type": "code",
   "execution_count": 2,
   "id": "7b97e528-c5aa-4cc1-856e-e37870cd0c0a",
   "metadata": {},
   "outputs": [],
   "source": [
    "import pandas as pd"
   ]
  },
  {
   "cell_type": "markdown",
   "id": "140098a1-0009-4fdc-b22c-2ad7667c546e",
   "metadata": {},
   "source": [
    "Load previously generated ground truth data:"
   ]
  },
  {
   "cell_type": "code",
   "execution_count": 3,
   "id": "ec5f491f-76da-4c89-b0be-f56c692881c9",
   "metadata": {},
   "outputs": [
    {
     "data": {
      "text/html": [
       "<div>\n",
       "<style scoped>\n",
       "    .dataframe tbody tr th:only-of-type {\n",
       "        vertical-align: middle;\n",
       "    }\n",
       "\n",
       "    .dataframe tbody tr th {\n",
       "        vertical-align: top;\n",
       "    }\n",
       "\n",
       "    .dataframe thead th {\n",
       "        text-align: right;\n",
       "    }\n",
       "</style>\n",
       "<table border=\"1\" class=\"dataframe\">\n",
       "  <thead>\n",
       "    <tr style=\"text-align: right;\">\n",
       "      <th></th>\n",
       "      <th>question</th>\n",
       "      <th>article_number</th>\n",
       "    </tr>\n",
       "  </thead>\n",
       "  <tbody>\n",
       "    <tr>\n",
       "      <th>0</th>\n",
       "      <td>Who holds all sovereign power in Kenya accordi...</td>\n",
       "      <td>1</td>\n",
       "    </tr>\n",
       "    <tr>\n",
       "      <th>1</th>\n",
       "      <td>How can the people of Kenya exercise their sov...</td>\n",
       "      <td>1</td>\n",
       "    </tr>\n",
       "    <tr>\n",
       "      <th>2</th>\n",
       "      <td>To which state organs is sovereign power deleg...</td>\n",
       "      <td>1</td>\n",
       "    </tr>\n",
       "    <tr>\n",
       "      <th>3</th>\n",
       "      <td>At which levels is the sovereign power of the ...</td>\n",
       "      <td>1</td>\n",
       "    </tr>\n",
       "    <tr>\n",
       "      <th>4</th>\n",
       "      <td>What makes this Constitution the ultimate auth...</td>\n",
       "      <td>2</td>\n",
       "    </tr>\n",
       "    <tr>\n",
       "      <th>...</th>\n",
       "      <td>...</td>\n",
       "      <td>...</td>\n",
       "    </tr>\n",
       "    <tr>\n",
       "      <th>1312</th>\n",
       "      <td>What was the previous constitution that was in...</td>\n",
       "      <td>264</td>\n",
       "    </tr>\n",
       "    <tr>\n",
       "      <th>1313</th>\n",
       "      <td>When did the previous constitution cease to be...</td>\n",
       "      <td>264</td>\n",
       "    </tr>\n",
       "    <tr>\n",
       "      <th>1314</th>\n",
       "      <td>What happened to the previous constitution on ...</td>\n",
       "      <td>264</td>\n",
       "    </tr>\n",
       "    <tr>\n",
       "      <th>1315</th>\n",
       "      <td>What is the Sixth Schedule in relation to the ...</td>\n",
       "      <td>264</td>\n",
       "    </tr>\n",
       "    <tr>\n",
       "      <th>1316</th>\n",
       "      <td>Are there any exceptions to the repeal of the ...</td>\n",
       "      <td>264</td>\n",
       "    </tr>\n",
       "  </tbody>\n",
       "</table>\n",
       "<p>1317 rows × 2 columns</p>\n",
       "</div>"
      ],
      "text/plain": [
       "                                               question  article_number\n",
       "0     Who holds all sovereign power in Kenya accordi...               1\n",
       "1     How can the people of Kenya exercise their sov...               1\n",
       "2     To which state organs is sovereign power deleg...               1\n",
       "3     At which levels is the sovereign power of the ...               1\n",
       "4     What makes this Constitution the ultimate auth...               2\n",
       "...                                                 ...             ...\n",
       "1312  What was the previous constitution that was in...             264\n",
       "1313  When did the previous constitution cease to be...             264\n",
       "1314  What happened to the previous constitution on ...             264\n",
       "1315  What is the Sixth Schedule in relation to the ...             264\n",
       "1316  Are there any exceptions to the repeal of the ...             264\n",
       "\n",
       "[1317 rows x 2 columns]"
      ]
     },
     "execution_count": 3,
     "metadata": {},
     "output_type": "execute_result"
    }
   ],
   "source": [
    "df_ground_truth = pd.read_csv(\"ground_truth_data.csv\")\n",
    "df_ground_truth"
   ]
  },
  {
   "cell_type": "markdown",
   "id": "d60df744-34e0-4793-b0f7-42220d7925c1",
   "metadata": {},
   "source": [
    "It has two columns, the question and the associated article number. There are several questions for each article.\n",
    "\n",
    "Next, we load the articles:"
   ]
  },
  {
   "cell_type": "code",
   "execution_count": 4,
   "id": "f4acdb26-754e-47ff-b3ca-8856895ed99b",
   "metadata": {},
   "outputs": [],
   "source": [
    "![ ! -f constitution.json ] && wget https://raw.githubusercontent.com/programmer-ke/constitution_kenya/refs/heads/master/json/ConstitutionKenya2010.json -O constitution.json"
   ]
  },
  {
   "cell_type": "code",
   "execution_count": 5,
   "id": "66709210-8aff-433b-8928-1dba6151c291",
   "metadata": {},
   "outputs": [],
   "source": [
    "import json\n",
    "\n",
    "with open('constitution.json', 'rt') as f:\n",
    "    articles = json.load(f)\n",
    "\n",
    "documents = []\n",
    "for article in articles:\n",
    "    \n",
    "    article_text = \"\".join(article['lines'])\n",
    "    article_title = f\"Article {article['number']}: {article['title']}\"\n",
    "    chapter_number, chapter_title = article['chapter']\n",
    "    chapter_text = f\"Chapter {chapter_number}: {chapter_title}\"\n",
    "    part_text = \"\"\n",
    "    \n",
    "    if article['part']:\n",
    "        part_num, part_title = article['part']\n",
    "        part_text = f'Part {part_num}: {part_title}'\n",
    "        \n",
    "    documents.append({\n",
    "        \"title\": article_title,\n",
    "        \"clauses\": article_text,\n",
    "        \"chapter\": chapter_text,\n",
    "        \"part\": part_text,\n",
    "        \"number\": article['number']\n",
    "    })"
   ]
  },
  {
   "cell_type": "code",
   "execution_count": 6,
   "id": "dbad1b90-1b4f-4059-8878-1530a965e3f2",
   "metadata": {},
   "outputs": [
    {
     "data": {
      "text/plain": [
       "[{'title': 'Article 1: Sovereignty of the people.',\n",
       "  'clauses': '(1)  All sovereign power belongs to the people of Kenya and shall be exercised\\nonly in accordance with this Constitution.\\n(2)  The people may exercise their sovereign power either directly or through their\\ndemocratically elected representatives.\\n(3)  Sovereign power under this Constitution is delegated to the following State\\norgans, which shall perform their functions in accordance with this Constitution—\\n(a) Parliament and the legislative assemblies in the county governments;\\n(b) the national executive and the executive structures in the county\\ngovernments; and\\n(c) the Judiciary and independent tribunals.\\n(4)  The sovereign power of the people is exercised at—\\n(a) the national level; and\\n(b) the county level.\\n',\n",
       "  'chapter': 'Chapter 1: SOVEREIGNTY OF THE PEOPLE AND SUPREMACY OF THIS CONSTITUTION',\n",
       "  'part': '',\n",
       "  'number': 1},\n",
       " {'title': 'Article 2: Supremacy of this Constitution.',\n",
       "  'clauses': '(1)  This Constitution is the supreme law of the Republic and binds all persons\\nand all State organs at both levels of government.\\n(2)  No person may claim or exercise State authority except as authorised under\\nthis Constitution.\\n(3)  The validity or legality of this Constitution is not subject to challenge by or\\nbefore any court or other State organ.\\n(4)  Any law, including customary law, that is inconsistent with this Constitution\\nis void to the extent of the inconsistency, and any act or omission in contravention\\nof this Constitution is invalid.\\n(5)  The general rules of international law shall form part of the law of Kenya.\\n(6)  Any treaty or convention ratified by Kenya shall form part of the law of Kenya\\nunder this Constitution.\\n',\n",
       "  'chapter': 'Chapter 1: SOVEREIGNTY OF THE PEOPLE AND SUPREMACY OF THIS CONSTITUTION',\n",
       "  'part': '',\n",
       "  'number': 2}]"
      ]
     },
     "execution_count": 6,
     "metadata": {},
     "output_type": "execute_result"
    }
   ],
   "source": [
    "documents[:2]"
   ]
  },
  {
   "cell_type": "code",
   "execution_count": 7,
   "id": "62a33b9e-7a7e-4d9f-b762-d6adeddf88fa",
   "metadata": {},
   "outputs": [
    {
     "data": {
      "text/plain": [
       "[{'question': 'Who holds all sovereign power in Kenya according to this Constitution?',\n",
       "  'article_number': 1},\n",
       " {'question': 'How can the people of Kenya exercise their sovereign power?',\n",
       "  'article_number': 1},\n",
       " {'question': 'To which state organs is sovereign power delegated?',\n",
       "  'article_number': 1}]"
      ]
     },
     "execution_count": 7,
     "metadata": {},
     "output_type": "execute_result"
    }
   ],
   "source": [
    "ground_truth = df_ground_truth.to_dict(orient='records')\n",
    "ground_truth[:3]"
   ]
  },
  {
   "cell_type": "markdown",
   "id": "d3f44ec4-24e7-4f0c-96f3-ecf847ef236f",
   "metadata": {},
   "source": [
    "## Baseline with minsearch"
   ]
  },
  {
   "cell_type": "markdown",
   "id": "62e958f7-3159-44c1-8b01-5c6a4e48c553",
   "metadata": {},
   "source": [
    "Get minsearch:"
   ]
  },
  {
   "cell_type": "code",
   "execution_count": 8,
   "id": "dac7f6f1-b5ad-4d14-92a3-87f03911cd86",
   "metadata": {},
   "outputs": [],
   "source": [
    "![ ! -f minsearch.py ] && wget https://raw.githubusercontent.com/alexeygrigorev/minsearch/refs/heads/main/minsearch.py -O minsearch.py"
   ]
  },
  {
   "cell_type": "markdown",
   "id": "4a88c845-2bc6-4293-8ff9-eaf8e327bff8",
   "metadata": {},
   "source": [
    "Next is to index the documents for search:"
   ]
  },
  {
   "cell_type": "code",
   "execution_count": 9,
   "id": "42ce3884-c825-47e1-8972-ba5d631a9cee",
   "metadata": {},
   "outputs": [
    {
     "data": {
      "text/plain": [
       "<minsearch.Index at 0x7f67225b58b0>"
      ]
     },
     "execution_count": 9,
     "metadata": {},
     "output_type": "execute_result"
    }
   ],
   "source": [
    "import minsearch\n",
    "\n",
    "index = minsearch.Index(text_fields=['title', 'clauses', 'chapter', 'part'], keyword_fields=[])\n",
    "index.fit(documents)"
   ]
  },
  {
   "cell_type": "code",
   "execution_count": 10,
   "id": "0c7597f6-ed26-431c-b203-7b2ce8ab1c11",
   "metadata": {},
   "outputs": [],
   "source": [
    "def search(query):\n",
    "    return index.search(query, num_results=5)"
   ]
  },
  {
   "cell_type": "markdown",
   "id": "cb1846fc-fe9d-407a-8c84-b59a0a313d26",
   "metadata": {},
   "source": [
    "Test search with the first question:"
   ]
  },
  {
   "cell_type": "code",
   "execution_count": 11,
   "id": "e1a55167-20cc-44f4-b01c-a42e64751129",
   "metadata": {},
   "outputs": [
    {
     "data": {
      "text/plain": [
       "[{'title': 'Article 2: Supremacy of this Constitution.',\n",
       "  'clauses': '(1)  This Constitution is the supreme law of the Republic and binds all persons\\nand all State organs at both levels of government.\\n(2)  No person may claim or exercise State authority except as authorised under\\nthis Constitution.\\n(3)  The validity or legality of this Constitution is not subject to challenge by or\\nbefore any court or other State organ.\\n(4)  Any law, including customary law, that is inconsistent with this Constitution\\nis void to the extent of the inconsistency, and any act or omission in contravention\\nof this Constitution is invalid.\\n(5)  The general rules of international law shall form part of the law of Kenya.\\n(6)  Any treaty or convention ratified by Kenya shall form part of the law of Kenya\\nunder this Constitution.\\n',\n",
       "  'chapter': 'Chapter 1: SOVEREIGNTY OF THE PEOPLE AND SUPREMACY OF THIS CONSTITUTION',\n",
       "  'part': '',\n",
       "  'number': 2},\n",
       " {'title': 'Article 255: Amendment of this Constitution.',\n",
       "  'clauses': '(1)  A proposed amendment to this Constitution shall be enacted in\\naccordance with Article 256 or 257, and approved in accordance with clause (2) by a\\nreferendum, if the amendment relates to any of the following matters—\\n(a) the supremacy of this Constitution;\\n(b) the territory of Kenya;\\n(c) the sovereignty of the people;\\n(d) the national values and principles of governance referred to in Article\\n10(2)(a) to (d);\\n(e) the Bill of Rights;\\n(f)the term of office of the President;\\n(g) the independence of the Judiciary and the commissions and\\nindependent offices to which Chapter Fifteen applies;\\n(h) the functions of Parliament;\\n(i) the objects, principles and structure of devolved government; or\\n(j) the provisions of this Chapter.\\n(2)  A proposed amendment shall be approved by a referendum under clause (1)\\nif—\\n(a) at least twenty per cent of the registered voters in each of at least half\\nof the counties vote in the referendum; and\\n(b) the amendment is supported by a simple majority of the citizens voting\\nin the referendum.\\n(3)  An amendment to this Constitution that does not relate to a matter specified\\nin clause (1) shall be enacted either—\\n(a) by Parliament, in accordance with Article 256; or\\n(b) by the people and Parliament, in accordance with Article 257.\\n',\n",
       "  'chapter': 'Chapter 16: AMENDMENT OF THIS CONSTITUTION',\n",
       "  'part': '',\n",
       "  'number': 255},\n",
       " {'title': 'Article 3: Defence of this Constitution.',\n",
       "  'clauses': '(1)  Every person has an obligation to respect, uphold and defend this\\nConstitution.\\n(2)  Any attempt to establish a government otherwise than in compliance with\\nthis Constitution is unlawful.\\n',\n",
       "  'chapter': 'Chapter 1: SOVEREIGNTY OF THE PEOPLE AND SUPREMACY OF THIS CONSTITUTION',\n",
       "  'part': '',\n",
       "  'number': 3},\n",
       " {'title': 'Article 1: Sovereignty of the people.',\n",
       "  'clauses': '(1)  All sovereign power belongs to the people of Kenya and shall be exercised\\nonly in accordance with this Constitution.\\n(2)  The people may exercise their sovereign power either directly or through their\\ndemocratically elected representatives.\\n(3)  Sovereign power under this Constitution is delegated to the following State\\norgans, which shall perform their functions in accordance with this Constitution—\\n(a) Parliament and the legislative assemblies in the county governments;\\n(b) the national executive and the executive structures in the county\\ngovernments; and\\n(c) the Judiciary and independent tribunals.\\n(4)  The sovereign power of the people is exercised at—\\n(a) the national level; and\\n(b) the county level.\\n',\n",
       "  'chapter': 'Chapter 1: SOVEREIGNTY OF THE PEOPLE AND SUPREMACY OF THIS CONSTITUTION',\n",
       "  'part': '',\n",
       "  'number': 1},\n",
       " {'title': 'Article 256: Amendment by parliamentary initiative.',\n",
       "  'clauses': '(1)  A Bill to amend this Constitution—\\n(a) may be introduced in either House of Parliament;\\n(b) may not address any other matter apart from consequential\\namendments to legislation arising from the Bill;\\n(c) shall not be called for second reading in either House within ninety days\\nafter the first reading of the Bill in that House; and\\n(d) shall have been passed by Parliament when each House of Parliament\\nhas passed the Bill, in both its second and third readings, by not less\\nthan two-thirds of all the members of that House.\\n(2)  Parliament shall publicise any Bill to amend this Constitution, and facilitate\\npublic discussion about the Bill.\\n(3)  After Parliament passes a Bill to amend this Constitution, the Speakers of the\\ntwo Houses of Parliament shall jointly submit to the President—\\n(a) the Bill, for assent and publication; and\\n(b) a certificate that the Bill has been passed by Parliament in accordance\\nwith this Article.\\n(4)  Subject to clause (5), the President shall assent to the Bill and cause it to be\\npublished within thirty days after the Bill is enacted by Parliament.\\n(5)  If a Bill to amend this Constitution proposes an amendment relating to a\\nmatter specified in Article 255(1)—\\n(a) the President shall, before assenting to the Bill, request the\\nIndependent Electoral and Boundaries Commission to conduct, within\\nninety days, a national referendum for approval of the Bill; and\\n(b) within thirty days after the chairperson of the Independent Electoral\\nand Boundaries Commission has certified to the President that the Bill\\nhas been approved in accordance with Article 255(2), the President shall\\nassent to the Bill and cause it to be published.\\n',\n",
       "  'chapter': 'Chapter 16: AMENDMENT OF THIS CONSTITUTION',\n",
       "  'part': '',\n",
       "  'number': 256}]"
      ]
     },
     "execution_count": 11,
     "metadata": {},
     "output_type": "execute_result"
    }
   ],
   "source": [
    "search(ground_truth[0]['question'])"
   ]
  },
  {
   "cell_type": "markdown",
   "id": "fa630a59-033c-4779-b594-e845fc4fb98a",
   "metadata": {},
   "source": [
    "We'll determine the relevance of each set of results by indicating which of the results is the correct answer as per the ground truth:"
   ]
  },
  {
   "cell_type": "code",
   "execution_count": 15,
   "id": "9c128794-e675-4c21-95e8-39547eacc207",
   "metadata": {},
   "outputs": [
    {
     "name": "stderr",
     "output_type": "stream",
     "text": [
      "100%|███████████████████████████████████████████████████████████████████████████████████████████████████████████████████| 1317/1317 [00:05<00:00, 261.35it/s]\n"
     ]
    }
   ],
   "source": [
    "from tqdm import tqdm\n",
    "relevance = []\n",
    "\n",
    "for q in tqdm(ground_truth):\n",
    "    results = search(q['question'])\n",
    "    hits = [result['number'] == q['article_number'] for result in results]\n",
    "    relevance.append(hits)"
   ]
  },
  {
   "cell_type": "markdown",
   "id": "d1da1d8b-3ff8-45a4-9b84-2be3d3244c09",
   "metadata": {},
   "source": [
    "The results for the first few questions, showing where the expected response is in the 5 responses:"
   ]
  },
  {
   "cell_type": "code",
   "execution_count": 17,
   "id": "a0349066-f296-4661-b973-af294a5c6664",
   "metadata": {},
   "outputs": [
    {
     "data": {
      "text/plain": [
       "[[False, False, False, True, False],\n",
       " [True, False, False, False, False],\n",
       " [False, False, True, False, False],\n",
       " [True, False, False, False, False],\n",
       " [True, False, False, False, False],\n",
       " [False, False, False, False, False],\n",
       " [True, False, False, False, False]]"
      ]
     },
     "execution_count": 17,
     "metadata": {},
     "output_type": "execute_result"
    }
   ],
   "source": [
    "relevance[:7]"
   ]
  },
  {
   "cell_type": "markdown",
   "id": "7f74ebf3-1da7-4015-bcf8-3745a4ec7643",
   "metadata": {},
   "source": [
    "### Hit Rate"
   ]
  },
  {
   "cell_type": "markdown",
   "id": "ead45bcf-975f-4e8a-be33-19bd77b663c2",
   "metadata": {},
   "source": [
    "The hit rate metric will be defined as any time the correct answer to the question is found within the first five results"
   ]
  },
  {
   "cell_type": "code",
   "execution_count": 18,
   "id": "9e7ce427-75d7-490b-8ba4-15d2bac26eb1",
   "metadata": {},
   "outputs": [],
   "source": [
    "def hit_rate(relevance):\n",
    "    target_found = [any(results) for results in relevance]\n",
    "    hit_count = sum(target_found)\n",
    "    return hit_count / len(relevance)"
   ]
  },
  {
   "cell_type": "code",
   "execution_count": 19,
   "id": "cf544984-d58e-4109-b924-62b885e5c0a0",
   "metadata": {},
   "outputs": [
    {
     "data": {
      "text/plain": [
       "0.8571428571428571"
      ]
     },
     "execution_count": 19,
     "metadata": {},
     "output_type": "execute_result"
    }
   ],
   "source": [
    "hit_rate(relevance[:7])"
   ]
  },
  {
   "cell_type": "markdown",
   "id": "97504d20-cc6c-4be0-8af8-928a2b919c63",
   "metadata": {},
   "source": [
    "There's an 86% hit rate for the first 5 questions."
   ]
  },
  {
   "cell_type": "markdown",
   "id": "db4de493-4784-4184-829b-ab945e875ac2",
   "metadata": {},
   "source": [
    "### Mean Reciprocal Rank"
   ]
  },
  {
   "cell_type": "markdown",
   "id": "347bce31-7e21-4cd5-9464-532eaf1f8e21",
   "metadata": {},
   "source": [
    "MRR shows how highly ranked the expected response it. The higher it is ranked in the set of results, the greater the score.\n",
    "\n",
    "The reciprocal rank is calculcated based on the position of the correct response in the set of results, as 1/N where N is the position. First position would result in 1, second 1/2, third 1/3 and so on. This is then averaged over all the questions."
   ]
  },
  {
   "cell_type": "code",
   "execution_count": 22,
   "id": "9f0af251-059d-4690-b65f-2b5601d1c82d",
   "metadata": {},
   "outputs": [],
   "source": [
    "def rr(question_results):\n",
    "    for i, hit in enumerate(question_results):\n",
    "        if hit:\n",
    "            return 1/(i + 1)\n",
    "    return 0\n",
    "\n",
    "def mrr(relevance):\n",
    "    scores = [rr(hits) for hits in relevance]\n",
    "    total = sum(scores)\n",
    "    return total / len(relevance)"
   ]
  },
  {
   "cell_type": "markdown",
   "id": "84451452-7a6c-447f-bab9-d52ff77912f8",
   "metadata": {},
   "source": [
    "Calculating MRR for the first few results:"
   ]
  },
  {
   "cell_type": "code",
   "execution_count": 24,
   "id": "f81bd2db-9439-40f1-8839-7071302c1a43",
   "metadata": {},
   "outputs": [
    {
     "data": {
      "text/plain": [
       "0.6547619047619048"
      ]
     },
     "execution_count": 24,
     "metadata": {},
     "output_type": "execute_result"
    }
   ],
   "source": [
    "mrr(relevance[:7])"
   ]
  },
  {
   "cell_type": "markdown",
   "id": "98608972-310b-4fe2-9cdc-f20a9a2186ad",
   "metadata": {},
   "source": [
    "Calculating the two metrics over all questions:"
   ]
  },
  {
   "cell_type": "code",
   "execution_count": 25,
   "id": "e223bdd2-5f6d-4a89-a6e5-ea1f4bbe8934",
   "metadata": {},
   "outputs": [],
   "source": [
    "def score(relevance):\n",
    "    return {'hit_rate': hit_rate(relevance), 'mrr': mrr(relevance)}"
   ]
  },
  {
   "cell_type": "code",
   "execution_count": 26,
   "id": "9ff3d29f-33b4-479f-9281-ad2e819bb946",
   "metadata": {},
   "outputs": [
    {
     "data": {
      "text/plain": [
       "{'hit_rate': 0.5535307517084282, 'mrr': 0.41580612503163755}"
      ]
     },
     "execution_count": 26,
     "metadata": {},
     "output_type": "execute_result"
    }
   ],
   "source": [
    "score(relevance)"
   ]
  },
  {
   "cell_type": "markdown",
   "id": "c28e3c16-ed94-4387-b27f-02238dd23e9f",
   "metadata": {},
   "source": [
    "## Lexical Search with Whoosh"
   ]
  },
  {
   "cell_type": "markdown",
   "id": "4bd3641f-faee-47f2-8e91-0e34e75f423b",
   "metadata": {},
   "source": [
    "[Whoosh][5] is a pure python embedeable search library with many useful features, striking a balance between the barebones minsearch library used previously and heavyweight search solutions like elastic search.\n",
    "\n",
    "[5]: https://github.com/mchaput/whoosh"
   ]
  }
 ],
 "metadata": {
  "kernelspec": {
   "display_name": "Python 3 (ipykernel)",
   "language": "python",
   "name": "python3"
  },
  "language_info": {
   "codemirror_mode": {
    "name": "ipython",
    "version": 3
   },
   "file_extension": ".py",
   "mimetype": "text/x-python",
   "name": "python",
   "nbconvert_exporter": "python",
   "pygments_lexer": "ipython3",
   "version": "3.12.7"
  }
 },
 "nbformat": 4,
 "nbformat_minor": 5
}
