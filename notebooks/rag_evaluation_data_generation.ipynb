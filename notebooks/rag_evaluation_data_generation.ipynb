{
 "cells": [
  {
   "cell_type": "markdown",
   "id": "ce62f376-1857-441e-99cf-61b47150df33",
   "metadata": {},
   "source": [
    "# Synthetic Data for Evaluation"
   ]
  },
  {
   "cell_type": "markdown",
   "id": "139c2553-cc60-430e-8c36-a5f702e91759",
   "metadata": {},
   "source": [
    "There's need to evaluate several components of a RAG system to find which setup gives the best results. Different types of retrieval techiques can be used (lexical, semantic, hybrid search), different prompts can be tested, or different kinds of models used for generation.\n",
    "\n",
    "Typically, to do this, we establish ground truth data and use standardized evaluation criteria to see which setup works best."
   ]
  },
  {
   "cell_type": "markdown",
   "id": "00891fad-2152-48a1-8051-26d89257311d",
   "metadata": {},
   "source": [
    "## Ground Truth Data"
   ]
  },
  {
   "cell_type": "markdown",
   "id": "2cf45bb5-70c8-4338-adb5-d72cde9fde9d",
   "metadata": {},
   "source": [
    "Ground truth data is accurate and verified inputs and outputs through which a process is evaluated, also known as the _gold standard_. In the case of retrieval, ground truth data could be a set of questions for which the best answer is already known. We evaluate the retrieval process by checking whether the best answer is returned for each question.\n",
    "\n",
    "So for our use case, we'd collect a set of questions on the constitution for which the relevant article is already known and when we run these queries, we should have the correct articles returned. \n",
    "\n",
    "This however involves quite a bit of manual effort. To make things easier, we'll use an LLM itself to generate questions for each article, and use this synthetic data for evaluation instead."
   ]
  },
  {
   "cell_type": "markdown",
   "id": "648c652c-e7d9-4b63-8b9d-36a3b0f1bb83",
   "metadata": {},
   "source": [
    "## Data preparation"
   ]
  },
  {
   "cell_type": "code",
   "execution_count": 1,
   "id": "cc09bc00-73c2-44f1-9ecd-2a20df1449a9",
   "metadata": {},
   "outputs": [
    {
     "name": "stdout",
     "output_type": "stream",
     "text": [
      "Note: you may need to restart the kernel to use updated packages.\n"
     ]
    }
   ],
   "source": [
    "pip install -q pandas scikit-learn openai ipython-secrets tqdm"
   ]
  },
  {
   "cell_type": "code",
   "execution_count": 2,
   "id": "b3c6a385-215f-4acd-8f26-2e828aba23c0",
   "metadata": {},
   "outputs": [],
   "source": [
    "![ ! -f constitution.json ] && wget https://raw.githubusercontent.com/programmer-ke/constitution_kenya/refs/heads/master/json/ConstitutionKenya2010.json -O constitution.json"
   ]
  },
  {
   "cell_type": "code",
   "execution_count": 3,
   "id": "3de58fba-1ce1-4359-927a-ee2f6281afb4",
   "metadata": {},
   "outputs": [],
   "source": [
    "import json\n",
    "\n",
    "with open('constitution.json', 'rt') as f:\n",
    "    articles = json.load(f)"
   ]
  },
  {
   "cell_type": "code",
   "execution_count": 4,
   "id": "0871ce4c-55c3-4b4b-a0c5-347211f9ad69",
   "metadata": {},
   "outputs": [
    {
     "data": {
      "text/plain": [
       "{'number': 1,\n",
       " 'title': 'Sovereignty of the people.',\n",
       " 'lines': ['(1)  All sovereign power belongs to the people of Kenya and shall be exercised\\n',\n",
       "  'only in accordance with this Constitution.\\n',\n",
       "  '(2)  The people may exercise their sovereign power either directly or through their\\n',\n",
       "  'democratically elected representatives.\\n',\n",
       "  '(3)  Sovereign power under this Constitution is delegated to the following State\\n',\n",
       "  'organs, which shall perform their functions in accordance with this Constitution—\\n',\n",
       "  '(a) Parliament and the legislative assemblies in the county governments;\\n',\n",
       "  '(b) the national executive and the executive structures in the county\\n',\n",
       "  'governments; and\\n',\n",
       "  '(c) the Judiciary and independent tribunals.\\n',\n",
       "  '(4)  The sovereign power of the people is exercised at—\\n',\n",
       "  '(a) the national level; and\\n',\n",
       "  '(b) the county level.\\n'],\n",
       " 'part': None,\n",
       " 'chapter': [1,\n",
       "  'SOVEREIGNTY OF THE PEOPLE AND SUPREMACY OF THIS CONSTITUTION']}"
      ]
     },
     "execution_count": 4,
     "metadata": {},
     "output_type": "execute_result"
    }
   ],
   "source": [
    "articles[0]"
   ]
  },
  {
   "cell_type": "markdown",
   "id": "aab2e50a-2a8a-483d-9207-209ab74cea12",
   "metadata": {},
   "source": [
    "For each article, we'll create text fields for title, clauses, chapter and part, and use the article's number as a unique identifier:"
   ]
  },
  {
   "cell_type": "code",
   "execution_count": 5,
   "id": "2410c1b3-36b2-4cc8-af87-3a5fe75365b5",
   "metadata": {},
   "outputs": [],
   "source": [
    "documents = []\n",
    "for article in articles:\n",
    "    \n",
    "    article_text = \"\".join(article['lines'])\n",
    "    article_title = f\"Article {article['number']}: {article['title']}\"\n",
    "    chapter_number, chapter_title = article['chapter']\n",
    "    chapter_text = f\"Chapter {chapter_number}: {chapter_title}\"\n",
    "    part_text = \"\"\n",
    "    \n",
    "    if article['part']:\n",
    "        part_num, part_title = article['part']\n",
    "        part_text = f'Part {part_num}: {part_title}'\n",
    "        \n",
    "    documents.append({\n",
    "        \"title\": article_title,\n",
    "        \"clauses\": article_text,\n",
    "        \"chapter\": chapter_text,\n",
    "        \"part\": part_text,\n",
    "        \"number\": article['number']\n",
    "    })"
   ]
  },
  {
   "cell_type": "code",
   "execution_count": 6,
   "id": "1c979234-93c3-4d59-9a3f-41926612501f",
   "metadata": {},
   "outputs": [
    {
     "data": {
      "text/plain": [
       "[{'title': 'Article 1: Sovereignty of the people.',\n",
       "  'clauses': '(1)  All sovereign power belongs to the people of Kenya and shall be exercised\\nonly in accordance with this Constitution.\\n(2)  The people may exercise their sovereign power either directly or through their\\ndemocratically elected representatives.\\n(3)  Sovereign power under this Constitution is delegated to the following State\\norgans, which shall perform their functions in accordance with this Constitution—\\n(a) Parliament and the legislative assemblies in the county governments;\\n(b) the national executive and the executive structures in the county\\ngovernments; and\\n(c) the Judiciary and independent tribunals.\\n(4)  The sovereign power of the people is exercised at—\\n(a) the national level; and\\n(b) the county level.\\n',\n",
       "  'chapter': 'Chapter 1: SOVEREIGNTY OF THE PEOPLE AND SUPREMACY OF THIS CONSTITUTION',\n",
       "  'part': '',\n",
       "  'number': 1},\n",
       " {'title': 'Article 2: Supremacy of this Constitution.',\n",
       "  'clauses': '(1)  This Constitution is the supreme law of the Republic and binds all persons\\nand all State organs at both levels of government.\\n(2)  No person may claim or exercise State authority except as authorised under\\nthis Constitution.\\n(3)  The validity or legality of this Constitution is not subject to challenge by or\\nbefore any court or other State organ.\\n(4)  Any law, including customary law, that is inconsistent with this Constitution\\nis void to the extent of the inconsistency, and any act or omission in contravention\\nof this Constitution is invalid.\\n(5)  The general rules of international law shall form part of the law of Kenya.\\n(6)  Any treaty or convention ratified by Kenya shall form part of the law of Kenya\\nunder this Constitution.\\n',\n",
       "  'chapter': 'Chapter 1: SOVEREIGNTY OF THE PEOPLE AND SUPREMACY OF THIS CONSTITUTION',\n",
       "  'part': '',\n",
       "  'number': 2}]"
      ]
     },
     "execution_count": 6,
     "metadata": {},
     "output_type": "execute_result"
    }
   ],
   "source": [
    "documents[:2]"
   ]
  },
  {
   "cell_type": "markdown",
   "id": "13be1bda-c691-4481-a8b4-6715d6cd9f36",
   "metadata": {},
   "source": [
    "We create a prompt to be used for generating the questions for each article:"
   ]
  },
  {
   "cell_type": "code",
   "execution_count": 11,
   "id": "17000272-9bec-45bd-849c-29a0513afee7",
   "metadata": {},
   "outputs": [],
   "source": [
    "prompt_template = \"\"\"\n",
    "You're emulating someone who's interested in learning more about the kenyan constitution.\n",
    "Formulate 5 questions this person would ask based on the given `ARTICLE` of the constitution.\n",
    "The `ARTICLE` should contain the answer to the questions, and the questions should be complete and not too short.\n",
    "Use the fewest words possible from the `ARTICLE` in the questions.\n",
    "Do not mention specific clause numbers in the questions.\n",
    "\n",
    "# ARTICLE\n",
    "chapter: {chapter}\n",
    "part: {part}\n",
    "title: {title}\n",
    "clauses: {clauses}\n",
    "\n",
    "Provide the output in a parsable JSON array like the following without using code blocks:\n",
    "\n",
    "[\"question1\", \"question2\", ..., \"question5\"]\n",
    "\"\"\".strip()"
   ]
  },
  {
   "cell_type": "markdown",
   "id": "2015b9c6-ef76-404c-b15a-4fde1fccbf25",
   "metadata": {},
   "source": [
    "We'll use Mistral AI and the `open-mistral-nemo` model."
   ]
  },
  {
   "cell_type": "code",
   "execution_count": 7,
   "id": "8fb153c5-c42e-47c7-be60-6a4eb58a17e7",
   "metadata": {},
   "outputs": [],
   "source": [
    "from openai import OpenAI\n",
    "from ipython_secrets import get_secret\n",
    "\n",
    "chat_endpoint = \"https://api.mistral.ai/v1\"  # for ollama point to the host/port e.g. http://localhost:11434/v1/\n",
    "mistral_api_key = get_secret('MISTRAL_API_KEY')\n",
    "\n",
    "client = OpenAI(base_url=chat_endpoint, api_key=mistral_api_key)"
   ]
  },
  {
   "cell_type": "code",
   "execution_count": 8,
   "id": "2474aed6-28c5-474e-aaed-490dca52abc7",
   "metadata": {},
   "outputs": [],
   "source": [
    "def generate_questions(doc):\n",
    "    prompt = prompt_template.format(**doc)\n",
    "\n",
    "    response = client.chat.completions.create(\n",
    "        model='open-mistral-nemo',\n",
    "        messages=[{\"role\": \"user\", \"content\": prompt}]\n",
    "    )\n",
    "\n",
    "    response = response.choices[0].message.content\n",
    "    return response"
   ]
  },
  {
   "cell_type": "code",
   "execution_count": 9,
   "id": "826994d4-451e-4209-b7ab-be8dba9f9173",
   "metadata": {},
   "outputs": [
    {
     "name": "stdout",
     "output_type": "stream",
     "text": [
      "{'title': 'Article 20: Application of Bill of Rights.', 'clauses': '(1)  The Bill of Rights applies to all law and binds all State organs and all\\npersons.\\n(2)  Every person shall enjoy the rights and fundamental freedoms in the Bill of\\nRights to the greatest extent consistent with the nature of the right or fundamental\\nfreedom.\\n(3)  In applying a provision of the Bill of Rights, a court shall—\\n(a) develop the law to the extent that it does not give effect to a right or\\nfundamental freedom; and\\n(b) adopt the interpretation that most favours the enforcement of a right\\nor fundamental freedom.\\n(4)  In interpreting the Bill of Rights, a court, tribunal or other authority shall\\npromote—\\n(a) the values that underlie an open and democratic society based on\\nhuman dignity, equality, equity and freedom; and\\n(b) the spirit, purport and objects of the Bill of Rights.\\n(5)  In applying any right under Article 43, if the State claims that it does not have\\nthe resources to implement the right, a court, tribunal or other authority shall be\\nguided by the following principles—\\n(a) it is the responsibility of the State to show that the resources are not\\navailable;\\n(b) in allocating resources, the State shall give priority to ensuring the\\nwidest possible enjoyment of the right or fundamental freedom having\\nregard to prevailing circumstances, including the vulnerability of\\nparticular groups or individuals; and\\n(c) the court, tribunal or other authority may not interfere with a decision\\nby a State organ concerning the allocation of available resources, solely\\non the basis that it would have reached a different conclusion.\\n', 'chapter': 'Chapter 4: THE BILL OF RIGHTS', 'part': 'Part 1: GENERAL PROVISIONS TO THE BILL OF RIGHTS', 'number': 20}\n"
     ]
    }
   ],
   "source": [
    "print(documents[19])"
   ]
  },
  {
   "cell_type": "markdown",
   "id": "c3b1536d-0161-46c4-9a7e-de0d58ed3794",
   "metadata": {},
   "source": [
    "Generate sample questions of the article above:"
   ]
  },
  {
   "cell_type": "code",
   "execution_count": 12,
   "id": "f197b9d7-a999-42a9-a114-ab378d96e143",
   "metadata": {},
   "outputs": [
    {
     "data": {
      "text/plain": [
       "'[\"Who is bound by the Bill of Rights in Kenya?\", \"How should courts interpret the Bill of Rights to maximize rights enforcement?\", \"What principles guide courts when the state claims lack of resources to implement Article 43 rights?\", \"What values should courts promote when interpreting the Bill of Rights?\", \"How should the state prioritize resource allocation for rights implementation?\"]'"
      ]
     },
     "execution_count": 12,
     "metadata": {},
     "output_type": "execute_result"
    }
   ],
   "source": [
    "generate_questions(documents[19])"
   ]
  },
  {
   "cell_type": "markdown",
   "id": "95e1ac72-e5d2-4e0a-a975-ccb51ce6e9b6",
   "metadata": {},
   "source": [
    "We iterate through all the articles and generate a set of questions for each:"
   ]
  },
  {
   "cell_type": "code",
   "execution_count": 30,
   "id": "7b072eae-97f7-4e0a-9bc6-aae48289c13a",
   "metadata": {},
   "outputs": [],
   "source": [
    "article_questions = {}"
   ]
  },
  {
   "cell_type": "code",
   "execution_count": 31,
   "id": "6c13f6dc-6dbf-4e50-965b-133480269017",
   "metadata": {},
   "outputs": [],
   "source": [
    "from tqdm import tqdm\n",
    "import time\n",
    "import openai\n",
    "\n",
    "def generate_evaluation_data():\n",
    "    for doc in tqdm(documents):\n",
    "        article_num = doc['number']\n",
    "        if article_num in article_questions:\n",
    "            continue\n",
    "        questions = generate_questions(doc)\n",
    "        article_questions[article_num] = questions\n",
    "        time.sleep(0.2)"
   ]
  },
  {
   "cell_type": "markdown",
   "id": "df75942d-38c2-4ce4-8d89-83d35998b7fc",
   "metadata": {},
   "source": [
    "We may experience throttling by the LLM endpoint, in that case, we pause for some seconds:"
   ]
  },
  {
   "cell_type": "code",
   "execution_count": 32,
   "id": "9e1bc2bc-53ef-4e8a-a2fb-6679275d4ff8",
   "metadata": {},
   "outputs": [
    {
     "name": "stderr",
     "output_type": "stream",
     "text": [
      "100%|██████████████████████████████████████████████████████████████████████████████████████████████████████████████████████| 264/264 [06:15<00:00,  1.42s/it]\n"
     ]
    }
   ],
   "source": [
    "while len(article_questions) < len(documents):\n",
    "    try:\n",
    "        generate_evaluation_data()\n",
    "    except openai.RateLimitError:\n",
    "        time.sleep(30)"
   ]
  },
  {
   "cell_type": "code",
   "execution_count": 34,
   "id": "3092219b-59a5-4cf2-9019-b99094816b68",
   "metadata": {},
   "outputs": [
    {
     "data": {
      "text/plain": [
       "'[\"How does the constitution ensure women\\'s representation in Parliament?\", \"What groups should Parliament prioritize for increased representation?\", \"How can Parliament promote youth representation?\", \"Which minorities should Parliament focus on for better representation?\", \"How does the constitution aim to include marginalized communities in Parliament?\"]'"
      ]
     },
     "execution_count": 34,
     "metadata": {},
     "output_type": "execute_result"
    }
   ],
   "source": [
    "article_questions[100]"
   ]
  },
  {
   "cell_type": "markdown",
   "id": "4f4b25dd-5cb8-4589-9496-2630c921e8e3",
   "metadata": {},
   "source": [
    "Then parse the strings into JSON. Some parsing errors may be encountered because of incorrect formatting by the LLM. These can be fixed manually:"
   ]
  },
  {
   "cell_type": "code",
   "execution_count": 48,
   "id": "4c06438f-fbad-4f70-b206-21c77768cb33",
   "metadata": {},
   "outputs": [],
   "source": [
    "parsed_questions = {}\n",
    "for article_num, questions in article_questions.items():\n",
    "    parsed_questions[article_num] = json.loads(questions)"
   ]
  },
  {
   "cell_type": "markdown",
   "id": "691682fe-3f38-4c18-b8fc-d5ca76a770bf",
   "metadata": {},
   "source": [
    "We store the resulting data on-disk as a list of questions each with the associated article number:"
   ]
  },
  {
   "cell_type": "code",
   "execution_count": 16,
   "id": "2d633b82-c35d-4c31-9790-04716794d7e5",
   "metadata": {},
   "outputs": [],
   "source": [
    "question_csv_lines = []\n",
    "for article_number, questions in parsed_questions.items():\n",
    "    for question in questions:\n",
    "        question_csv_lines.append((question, article_number))"
   ]
  },
  {
   "cell_type": "code",
   "execution_count": 21,
   "id": "156e4ed1-7f8d-4499-947e-ce7cbfbd6d0a",
   "metadata": {},
   "outputs": [],
   "source": [
    "import csv\n",
    "\n",
    "with open('rag_evaluation_data.csv', 'wt') as f:\n",
    "    writer = csv.writer(f)\n",
    "    writer.writerow(('question', 'article_number'))\n",
    "    for row in question_csv_lines:\n",
    "        writer.writerow(row)"
   ]
  },
  {
   "cell_type": "code",
   "execution_count": 21,
   "id": "5b2f744a-9fec-4f12-aaf0-26c5aef074fc",
   "metadata": {},
   "outputs": [
    {
     "name": "stdout",
     "output_type": "stream",
     "text": [
      "question,article_number\n",
      "Who holds all sovereign power in Kenya according to this Constitution?,1\n",
      "How can the people of Kenya exercise their sovereign power?,1\n",
      "To which state organs is sovereign power delegated?,1\n",
      "At which levels is the sovereign power of the people exercised in Kenya?,1\n",
      "What makes this Constitution the ultimate authority in Kenya?,2\n",
      "Who can claim or exercise state power and under what conditions?,2\n",
      "Can the Constitution's validity be challenged in any way?,2\n",
      "What happens to laws that contradict this Constitution?,2\n",
      "How do international treaties and conventions become part of Kenyan law?,2\n"
     ]
    }
   ],
   "source": [
    "!head rag_evaluation_data.csv"
   ]
  }
 ],
 "metadata": {
  "kernelspec": {
   "display_name": "Python 3 (ipykernel)",
   "language": "python",
   "name": "python3"
  },
  "language_info": {
   "codemirror_mode": {
    "name": "ipython",
    "version": 3
   },
   "file_extension": ".py",
   "mimetype": "text/x-python",
   "name": "python",
   "nbconvert_exporter": "python",
   "pygments_lexer": "ipython3",
   "version": "3.12.7"
  }
 },
 "nbformat": 4,
 "nbformat_minor": 5
}
