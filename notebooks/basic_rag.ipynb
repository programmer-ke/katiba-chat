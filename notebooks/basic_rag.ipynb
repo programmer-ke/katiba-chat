{
 "cells": [
  {
   "cell_type": "markdown",
   "id": "cf057f5b-7918-48bd-a80a-93175c51280d",
   "metadata": {},
   "source": [
    "# Basic Retrieval Augmented Generation (RAG) with the Kenya 2010 Constitution"
   ]
  },
  {
   "cell_type": "markdown",
   "id": "7d431994-a841-4f94-9cbc-4fa08825d7ee",
   "metadata": {},
   "source": [
    "The goal is to be able to be able to chat with an LLM about information contained in articles of the Kenya 2010 Constitution. This is useful for getting quick responses to specific questions without having to manually scan the entire document."
   ]
  },
  {
   "cell_type": "markdown",
   "id": "a2b118c1-5eb4-48bc-a7c6-c046ca9b02a6",
   "metadata": {},
   "source": [
    "## Dependencies"
   ]
  },
  {
   "cell_type": "code",
   "execution_count": 28,
   "id": "d88e5c41-1a7c-4557-80ec-bd0b07a13e8c",
   "metadata": {},
   "outputs": [
    {
     "name": "stdout",
     "output_type": "stream",
     "text": [
      "Note: you may need to restart the kernel to use updated packages.\n"
     ]
    }
   ],
   "source": [
    "pip install -q pandas scikit-learn openai ipython-secrets"
   ]
  },
  {
   "cell_type": "markdown",
   "id": "82cb3cc4-4e8e-49cb-8f07-59aeb30a3ad9",
   "metadata": {},
   "source": [
    "## Pre-processing"
   ]
  },
  {
   "cell_type": "markdown",
   "id": "bacca182-7b55-425f-89a9-a6fd39787c6e",
   "metadata": {},
   "source": [
    "We have a JSON copy of the constitution's articles extracted from a PDF version of the constitution in [this][0] Github repo. We fetch the JSON:\n",
    "\n",
    "[0]: https://github.com/programmer-ke/constitution_kenya"
   ]
  },
  {
   "cell_type": "code",
   "execution_count": 8,
   "id": "a16da6f6-dfed-4834-91fc-970ae0efb707",
   "metadata": {},
   "outputs": [],
   "source": [
    "![ ! -f constitution.json ] && wget https://raw.githubusercontent.com/programmer-ke/constitution_kenya/refs/heads/master/json/ConstitutionKenya2010.json -O constitution.json"
   ]
  },
  {
   "cell_type": "code",
   "execution_count": 2,
   "id": "002a3a6f-0895-4b81-aab3-35cacf30f62b",
   "metadata": {},
   "outputs": [],
   "source": [
    "import json"
   ]
  },
  {
   "cell_type": "code",
   "execution_count": 3,
   "id": "0bc17a87-af12-484f-a02c-1f7c5db5e17a",
   "metadata": {},
   "outputs": [],
   "source": [
    "with open('constitution.json', 'rt') as f:\n",
    "    articles = json.load(f)"
   ]
  },
  {
   "cell_type": "code",
   "execution_count": 4,
   "id": "384cc5f7-14b9-49c7-9830-4b5eea9a25f8",
   "metadata": {},
   "outputs": [
    {
     "data": {
      "text/plain": [
       "[{'number': 65,\n",
       "  'title': 'Landholding by non-citizens.',\n",
       "  'lines': ['(1)  A person who is not a citizen may hold land on the basis of leasehold\\n',\n",
       "   'tenure only, and any such lease, however granted, shall not exceed ninety-nine years.\\n',\n",
       "   '(2)  If a provision of any agreement, deed, conveyance or document of whatever\\n',\n",
       "   'nature purports to confer on a person who is not a citizen an interest in land greater\\n',\n",
       "   'than a ninety-nine year lease, the provision shall be regarded as conferring on the\\n',\n",
       "   'person a ninety-nine year leasehold interest, and no more.\\n',\n",
       "   '(3)  For purposes of this Article —\\n',\n",
       "   '(a) a body corporate shall be regarded as a citizen only if the body corporate\\n',\n",
       "   'is wholly owned by one or more citizens; and\\n',\n",
       "   '(b) property held in trust shall be regarded as being held by a citizen only\\n',\n",
       "   'if all of the beneficial interest of the trust is held by persons who are\\n',\n",
       "   'citizens.\\n',\n",
       "   '(4)  Parliament may enact legislation to make further provision for the operation\\n',\n",
       "   'of this Article.\\n'],\n",
       "  'part': [1, 'LAND'],\n",
       "  'chapter': [5, 'LAND AND ENVIRONMENT']},\n",
       " {'number': 66,\n",
       "  'title': 'Regulation of land use and property.',\n",
       "  'lines': ['(1)  The State may regulate the use of any land, or any interest in or right\\n',\n",
       "   'over any land, in the interest of defence, public safety, public order, public morality,\\n',\n",
       "   'public health, or land use planning.\\n',\n",
       "   '(2)  Parliament shall enact legislation ensuring that investments in property\\n',\n",
       "   'benefit local communities and their economies.\\n'],\n",
       "  'part': [1, 'LAND'],\n",
       "  'chapter': [5, 'LAND AND ENVIRONMENT']},\n",
       " {'number': 67,\n",
       "  'title': 'National Land Commission.',\n",
       "  'lines': ['(1)  There is established the National Land Commission.\\n',\n",
       "   '(2)  The functions of the National Land Commission are—\\n',\n",
       "   '(a) to manage public land on behalf of the national and county\\n',\n",
       "   'governments;\\n',\n",
       "   '(b) to recommend a national land policy to the national government;\\n',\n",
       "   '(c) to advise the national government on a comprehensive programme for\\n',\n",
       "   'the registration of title in land throughout Kenya;\\n',\n",
       "   '(d) to conduct research related to land and the use of natural resources,\\n',\n",
       "   'and make recommendations to appropriate authorities;\\n',\n",
       "   '(e) to initiate investigations, on its own initiative or on a complaint,\\n',\n",
       "   'into present or historical land injustices, and recommend appropriate\\n',\n",
       "   'redress;\\n',\n",
       "   '(f)to encourage the application of traditional dispute resolution\\n',\n",
       "   'mechanisms in land conflicts;\\n',\n",
       "   '(g) to assess tax on land and premiums on immovable property in any area\\n',\n",
       "   'designated by law; and\\n',\n",
       "   '(h) to monitor and have oversight responsibilities over land use planning\\n',\n",
       "   'throughout the country.\\n',\n",
       "   '(3)  The National Land Commission may perform any other functions prescribed\\n',\n",
       "   'by national legislation.\\n'],\n",
       "  'part': [1, 'LAND'],\n",
       "  'chapter': [5, 'LAND AND ENVIRONMENT']}]"
      ]
     },
     "execution_count": 4,
     "metadata": {},
     "output_type": "execute_result"
    }
   ],
   "source": [
    "articles[64:67]"
   ]
  },
  {
   "cell_type": "markdown",
   "id": "34e93697-4319-4d7b-a824-fd4b36c6cbf9",
   "metadata": {},
   "source": [
    "It is a list of the articles contained in the constitution with the associated article number, the chapter it belongs to, if the chapter is divided into parts, we have the part number and title, and finally the lines that compose the article's clauses."
   ]
  },
  {
   "cell_type": "markdown",
   "id": "205c06c7-b405-41b3-9932-e0f4f30abeff",
   "metadata": {},
   "source": [
    "We do some processing to make searching easier:\n",
    "- combine the article lines into a single text field\n",
    "- have a single text field for each of chapter, part and article title\n",
    "- Where part doesn't exist, have it as a zero length string"
   ]
  },
  {
   "cell_type": "code",
   "execution_count": 5,
   "id": "2d15ba14-8b5e-4cbe-a021-782f44d0196f",
   "metadata": {},
   "outputs": [],
   "source": [
    "search_fields = []\n",
    "for article in articles:\n",
    "    \n",
    "    article_text = \"\".join(article['lines'])\n",
    "    article_title = f\"Article {article['number']}: {article['title']}\"\n",
    "    chapter_number, chapter_title = article['chapter']\n",
    "    chapter_text = f\"Chapter {chapter_number}: {chapter_title}\"\n",
    "    part_text = \"\"\n",
    "    \n",
    "    if article['part']:\n",
    "        part_num, part_title = article['part']\n",
    "        part_text = f'Part {part_num}: {part_title}'\n",
    "        \n",
    "    search_fields.append({\n",
    "        \"article_title\": article_title,\n",
    "        \"article_text\": article_text,\n",
    "        \"chapter\": chapter_text,\n",
    "        \"part\": part_text\n",
    "    })\n",
    "    "
   ]
  },
  {
   "cell_type": "code",
   "execution_count": 6,
   "id": "8e3c7fd2-c1da-4574-972e-42211f6cc22a",
   "metadata": {},
   "outputs": [
    {
     "data": {
      "text/plain": [
       "[{'article_title': 'Article 1: Sovereignty of the people.',\n",
       "  'article_text': '(1)  All sovereign power belongs to the people of Kenya and shall be exercised\\nonly in accordance with this Constitution.\\n(2)  The people may exercise their sovereign power either directly or through their\\ndemocratically elected representatives.\\n(3)  Sovereign power under this Constitution is delegated to the following State\\norgans, which shall perform their functions in accordance with this Constitution—\\n(a) Parliament and the legislative assemblies in the county governments;\\n(b) the national executive and the executive structures in the county\\ngovernments; and\\n(c) the Judiciary and independent tribunals.\\n(4)  The sovereign power of the people is exercised at—\\n(a) the national level; and\\n(b) the county level.\\n',\n",
       "  'chapter': 'Chapter 1: SOVEREIGNTY OF THE PEOPLE AND SUPREMACY OF THIS CONSTITUTION',\n",
       "  'part': ''},\n",
       " {'article_title': 'Article 2: Supremacy of this Constitution.',\n",
       "  'article_text': '(1)  This Constitution is the supreme law of the Republic and binds all persons\\nand all State organs at both levels of government.\\n(2)  No person may claim or exercise State authority except as authorised under\\nthis Constitution.\\n(3)  The validity or legality of this Constitution is not subject to challenge by or\\nbefore any court or other State organ.\\n(4)  Any law, including customary law, that is inconsistent with this Constitution\\nis void to the extent of the inconsistency, and any act or omission in contravention\\nof this Constitution is invalid.\\n(5)  The general rules of international law shall form part of the law of Kenya.\\n(6)  Any treaty or convention ratified by Kenya shall form part of the law of Kenya\\nunder this Constitution.\\n',\n",
       "  'chapter': 'Chapter 1: SOVEREIGNTY OF THE PEOPLE AND SUPREMACY OF THIS CONSTITUTION',\n",
       "  'part': ''},\n",
       " {'article_title': 'Article 3: Defence of this Constitution.',\n",
       "  'article_text': '(1)  Every person has an obligation to respect, uphold and defend this\\nConstitution.\\n(2)  Any attempt to establish a government otherwise than in compliance with\\nthis Constitution is unlawful.\\n',\n",
       "  'chapter': 'Chapter 1: SOVEREIGNTY OF THE PEOPLE AND SUPREMACY OF THIS CONSTITUTION',\n",
       "  'part': ''}]"
      ]
     },
     "execution_count": 6,
     "metadata": {},
     "output_type": "execute_result"
    }
   ],
   "source": [
    "search_fields[:3]"
   ]
  },
  {
   "cell_type": "code",
   "execution_count": 7,
   "id": "eaa10dfb-9de5-4913-b67d-0332c020ce93",
   "metadata": {},
   "outputs": [
    {
     "data": {
      "text/plain": [
       "[{'article_title': 'Article 65: Landholding by non-citizens.',\n",
       "  'article_text': '(1)  A person who is not a citizen may hold land on the basis of leasehold\\ntenure only, and any such lease, however granted, shall not exceed ninety-nine years.\\n(2)  If a provision of any agreement, deed, conveyance or document of whatever\\nnature purports to confer on a person who is not a citizen an interest in land greater\\nthan a ninety-nine year lease, the provision shall be regarded as conferring on the\\nperson a ninety-nine year leasehold interest, and no more.\\n(3)  For purposes of this Article —\\n(a) a body corporate shall be regarded as a citizen only if the body corporate\\nis wholly owned by one or more citizens; and\\n(b) property held in trust shall be regarded as being held by a citizen only\\nif all of the beneficial interest of the trust is held by persons who are\\ncitizens.\\n(4)  Parliament may enact legislation to make further provision for the operation\\nof this Article.\\n',\n",
       "  'chapter': 'Chapter 5: LAND AND ENVIRONMENT',\n",
       "  'part': 'Part 1: LAND'},\n",
       " {'article_title': 'Article 66: Regulation of land use and property.',\n",
       "  'article_text': '(1)  The State may regulate the use of any land, or any interest in or right\\nover any land, in the interest of defence, public safety, public order, public morality,\\npublic health, or land use planning.\\n(2)  Parliament shall enact legislation ensuring that investments in property\\nbenefit local communities and their economies.\\n',\n",
       "  'chapter': 'Chapter 5: LAND AND ENVIRONMENT',\n",
       "  'part': 'Part 1: LAND'},\n",
       " {'article_title': 'Article 67: National Land Commission.',\n",
       "  'article_text': '(1)  There is established the National Land Commission.\\n(2)  The functions of the National Land Commission are—\\n(a) to manage public land on behalf of the national and county\\ngovernments;\\n(b) to recommend a national land policy to the national government;\\n(c) to advise the national government on a comprehensive programme for\\nthe registration of title in land throughout Kenya;\\n(d) to conduct research related to land and the use of natural resources,\\nand make recommendations to appropriate authorities;\\n(e) to initiate investigations, on its own initiative or on a complaint,\\ninto present or historical land injustices, and recommend appropriate\\nredress;\\n(f)to encourage the application of traditional dispute resolution\\nmechanisms in land conflicts;\\n(g) to assess tax on land and premiums on immovable property in any area\\ndesignated by law; and\\n(h) to monitor and have oversight responsibilities over land use planning\\nthroughout the country.\\n(3)  The National Land Commission may perform any other functions prescribed\\nby national legislation.\\n',\n",
       "  'chapter': 'Chapter 5: LAND AND ENVIRONMENT',\n",
       "  'part': 'Part 1: LAND'}]"
      ]
     },
     "execution_count": 7,
     "metadata": {},
     "output_type": "execute_result"
    }
   ],
   "source": [
    "search_fields[64:67]"
   ]
  },
  {
   "cell_type": "markdown",
   "id": "8194d7e8-1c42-475b-8dad-3885c1a3c9db",
   "metadata": {},
   "source": [
    "## Retrieval"
   ]
  },
  {
   "cell_type": "markdown",
   "id": "f862d063-da39-42f8-a255-1b07b99f8f33",
   "metadata": {},
   "source": [
    "We'll use a simple in memory search module for the initial attempt. It implements search by using [TF-IDF][3] for vectorization and calculating the cosine similarity between the query and the corpus of documents. In this case the corpus of documents is the collection of articles of the constitution.\n",
    "\n",
    "[3]: https://en.wikipedia.org/wiki/Tf%E2%80%93idf"
   ]
  },
  {
   "cell_type": "markdown",
   "id": "6bc7b3f0-8918-40aa-9aba-2cb47903461f",
   "metadata": {},
   "source": [
    "We get the module from Github and use it to index the documents:"
   ]
  },
  {
   "cell_type": "code",
   "execution_count": 10,
   "id": "84f12f18-4dbf-4ae7-91a7-9c13c0fa0818",
   "metadata": {},
   "outputs": [],
   "source": [
    "![ ! -f minsearch.py ] && wget https://raw.githubusercontent.com/alexeygrigorev/minsearch/refs/heads/main/minsearch.py -O minsearch.py"
   ]
  },
  {
   "cell_type": "code",
   "execution_count": 19,
   "id": "f4ae229e-91ff-4b26-b71e-b67cfef94607",
   "metadata": {},
   "outputs": [
    {
     "data": {
      "text/plain": [
       "<minsearch.Index at 0x7f7cd55aac60>"
      ]
     },
     "execution_count": 19,
     "metadata": {},
     "output_type": "execute_result"
    }
   ],
   "source": [
    "import minsearch\n",
    "\n",
    "index = minsearch.Index(text_fields=['article_title', 'article_text', 'chapter', 'part'], keyword_fields=[])\n",
    "index.fit(search_fields)"
   ]
  },
  {
   "cell_type": "markdown",
   "id": "35219e6a-a329-4351-813a-60b909b40ad4",
   "metadata": {},
   "source": [
    "We can run a sample query:"
   ]
  },
  {
   "cell_type": "code",
   "execution_count": 23,
   "id": "1084c7e8-e351-4ff5-a407-102b86fa6910",
   "metadata": {},
   "outputs": [],
   "source": [
    "sample_query = \"what guarantees are there regarding freedom of expression?\"\n",
    "results = index.search(sample_query, num_results=5)"
   ]
  },
  {
   "cell_type": "code",
   "execution_count": 24,
   "id": "66fe9650-5cd0-4cf4-a617-0438cc2e7b88",
   "metadata": {},
   "outputs": [
    {
     "data": {
      "text/plain": [
       "[{'article_title': 'Article 33: Freedom of expression.',\n",
       "  'article_text': '(1)  Every person has the right to freedom of expression, which includes—\\n(a) freedom to seek, receive or impart information or ideas;\\n(b) freedom of artistic creativity; and\\n(c) academic freedom and freedom of scientific research.\\n(2)  The right to freedom of expression does not extend to—\\n(a) propaganda for war;\\n(b) incitement to violence;\\n(c) hate speech; or\\n(d) advocacy of hatred that—\\n(i) constitutes ethnic incitement, vilification of others or\\nincitement to cause harm; or\\n(ii) is based on any ground of discrimination specified or\\ncontemplated in Article 27(4).\\n(3)  In the exercise of the right to freedom of expression, every person shall\\nrespect the rights and reputation of others.\\n',\n",
       "  'chapter': 'Chapter 4: THE BILL OF RIGHTS',\n",
       "  'part': 'Part 2: RIGHTS AND FUNDAMENTAL FREEDOMS'},\n",
       " {'article_title': 'Article 20: Application of Bill of Rights.',\n",
       "  'article_text': '(1)  The Bill of Rights applies to all law and binds all State organs and all\\npersons.\\n(2)  Every person shall enjoy the rights and fundamental freedoms in the Bill of\\nRights to the greatest extent consistent with the nature of the right or fundamental\\nfreedom.\\n(3)  In applying a provision of the Bill of Rights, a court shall—\\n(a) develop the law to the extent that it does not give effect to a right or\\nfundamental freedom; and\\n(b) adopt the interpretation that most favours the enforcement of a right\\nor fundamental freedom.\\n(4)  In interpreting the Bill of Rights, a court, tribunal or other authority shall\\npromote—\\n(a) the values that underlie an open and democratic society based on\\nhuman dignity, equality, equity and freedom; and\\n(b) the spirit, purport and objects of the Bill of Rights.\\n(5)  In applying any right under Article 43, if the State claims that it does not have\\nthe resources to implement the right, a court, tribunal or other authority shall be\\nguided by the following principles—\\n(a) it is the responsibility of the State to show that the resources are not\\navailable;\\n(b) in allocating resources, the State shall give priority to ensuring the\\nwidest possible enjoyment of the right or fundamental freedom having\\nregard to prevailing circumstances, including the vulnerability of\\nparticular groups or individuals; and\\n(c) the court, tribunal or other authority may not interfere with a decision\\nby a State organ concerning the allocation of available resources, solely\\non the basis that it would have reached a different conclusion.\\n',\n",
       "  'chapter': 'Chapter 4: THE BILL OF RIGHTS',\n",
       "  'part': 'Part 1: GENERAL PROVISIONS TO THE BILL OF RIGHTS'},\n",
       " {'article_title': 'Article 24: Limitation of rights and fundamental freedoms.',\n",
       "  'article_text': '(1)  A right or fundamental freedom in the Bill of Rights shall not be limited\\nexcept by law, and then only to the extent that the limitation is reasonable and\\njustifiable in an open and democratic society based on human dignity, equality and\\nfreedom, taking into account all relevant factors, including—\\n(a) the nature of the right or fundamental freedom;\\n(b) the importance of the purpose of the limitation;\\n(c) the nature and extent of the limitation;\\n(d) the need to ensure that the enjoyment of rights and fundamental\\nfreedoms by any individual does not prejudice the rights and\\nfundamental freedoms of others; and\\n(e) the relation between the limitation and its purpose and whether there\\nare less restrictive means to achieve the purpose.\\n(2)  Despite clause (1), a provision in legislation limiting a right or fundamental\\nfreedom —\\n(a) in the case of a provision enacted or amended on or after the effective\\ndate, is not valid unless the legislation specifically expresses the\\nintention to limit that right or fundamental freedom, and the nature\\nand extent of the limitation;\\n(b) shall not be construed as limiting the right or fundamental freedom\\nunless the provision is clear and specific about the right or freedom to\\nbe limited and the nature and extent of the limitation; and\\n(c) shall not limit the right or fundamental freedom so far as to derogate\\nfrom its core or essential content.\\n(3)    The State or a person seeking to justify a particular limitation shall\\ndemonstrate to the court, tribunal or other authority that the requirements of this\\nArticle have been satisfied.\\n(4)  The provisions of this Chapter on equality shall be qualified to the extent\\nstrictly necessary for the application of Muslim law before the Kadhis’ courts, to\\npersons who profess the Muslim religion, in matters relating to personal status,\\nmarriage, divorce and inheritance.\\n(5)  Despite clause (1) and (2), a provision in legislation may limit the application\\nof the rights or fundamental freedoms in the following provisions to persons serving\\nin the Kenya Defence Forces or the National Police Service—\\n(a) Article 31 — Privacy;\\n(b) Article 36 — Freedom of association;\\n(c) Article 37 — Assembly, demonstration, picketing and petition;\\n(d) Article 41 — Labour relations;\\n(e) Article 43 — Economic and social rights; and\\n(f)Article 49 — Rights of arrested persons.\\n',\n",
       "  'chapter': 'Chapter 4: THE BILL OF RIGHTS',\n",
       "  'part': 'Part 1: GENERAL PROVISIONS TO THE BILL OF RIGHTS'},\n",
       " {'article_title': 'Article 56: Minorities and marginalised groups.',\n",
       "  'article_text': 'The State shall put in place affirmative action programmes designed to\\nensure that minorities and marginalised groups —\\n(a) participate and are represented in governance and other spheres of life;\\n(b) are provided special opportunities in educational and economic fields;\\n(c) are provided special opportunities for access to employment;\\n(d) develop their cultural values, languages and practices; and\\n(e) have reasonable access to water, health services and infrastructure.\\n',\n",
       "  'chapter': 'Chapter 4: THE BILL OF RIGHTS',\n",
       "  'part': 'Part 3: SPECIFIC APPLICATION OF RIGHTS'},\n",
       " {'article_title': 'Article 23: Authority of courts to uphold and enforce the Bill of Rights.',\n",
       "  'article_text': '(1)  The High Court has jurisdiction, in accordance with Article 165, to hear\\nand determine applications for redress of a denial, violation or infringement of, or\\nthreat to, a right or fundamental freedom in the Bill of Rights.\\n(2)  Parliament shall enact legislation to give original jurisdiction in appropriate\\ncases to subordinate courts to hear and determine applications for redress of a\\ndenial, violation or infringement of, or threat to, a right or fundamental freedom in\\nthe Bill of Rights.\\n(3)  In any proceedings brought under Article 22, a court may grant appropriate\\nrelief, including—\\n(a) a declaration of rights;\\n(b) an injunction;\\n(c) a conservatory order;\\n(d) a declaration of invalidity of any law that denies, violates, infringes, or\\nthreatens a right or fundamental freedom in the Bill of Rights and is\\nnot justified under Article 24;\\n(e) an order for compensation; and\\n(f)an order of judicial review.\\n',\n",
       "  'chapter': 'Chapter 4: THE BILL OF RIGHTS',\n",
       "  'part': 'Part 1: GENERAL PROVISIONS TO THE BILL OF RIGHTS'}]"
      ]
     },
     "execution_count": 24,
     "metadata": {},
     "output_type": "execute_result"
    }
   ],
   "source": [
    "results"
   ]
  },
  {
   "cell_type": "markdown",
   "id": "ca596b61-4675-4805-8c5a-9c8928c0492b",
   "metadata": {},
   "source": [
    "We can see somewhat relevant results. We create a simple wrapper function for search:"
   ]
  },
  {
   "cell_type": "code",
   "execution_count": 25,
   "id": "140548ac-4b92-416c-9f25-c1474c9fe6a1",
   "metadata": {},
   "outputs": [],
   "source": [
    "def search(query):\n",
    "    return index.search(query, num_results=5)"
   ]
  },
  {
   "cell_type": "markdown",
   "id": "414026d8-819b-4cdf-a480-a6bd74e75f81",
   "metadata": {},
   "source": [
    "## Generation"
   ]
  },
  {
   "cell_type": "markdown",
   "id": "d55a5996-b300-4854-a1c5-94dade40af2d",
   "metadata": {},
   "source": [
    "There are several options for LLM text generation, ranging from locally hosted solutions via llama.cpp and Ollama, to external service providers like OpenAI, MistralAI etc."
   ]
  },
  {
   "cell_type": "markdown",
   "id": "a8eefd5c-2aee-4318-bde6-42d8ea0d554e",
   "metadata": {},
   "source": [
    "For simplicity, we'll use Mistral AI here via the OpenAI python client. Both Mistral and Ollama implement an OpenAI compatible API, so the same library can be used on all the three options by only changing the URL and the API Key.\n",
    "\n",
    "With Mistral AI (at the moment of writing this), you get some free credit on signing up."
   ]
  },
  {
   "cell_type": "code",
   "execution_count": 30,
   "id": "6e760fdb-741c-4eef-afa8-db8d85bd2051",
   "metadata": {},
   "outputs": [],
   "source": [
    "from openai import OpenAI\n",
    "from ipython_secrets import get_secret"
   ]
  },
  {
   "cell_type": "code",
   "execution_count": 31,
   "id": "2d399757-1582-40e7-a6c0-26eb6d94be80",
   "metadata": {},
   "outputs": [],
   "source": [
    "chat_endpoint = \"https://api.mistral.ai/v1\"  # for ollama point to the host/port e.g. http://localhost:11434/v1/\n",
    "mistral_api_key = get_secret('MISTRAL_API_KEY')\n",
    "\n",
    "client = OpenAI(base_url=chat_endpoint, api_key=mistral_api_key)"
   ]
  },
  {
   "cell_type": "markdown",
   "id": "e2d36211-6df8-4317-a415-637445767c09",
   "metadata": {},
   "source": [
    "You'll be prompted above for the Mistral API key above.\n",
    "\n",
    "Next we can send a sample message to the LLM. We'll use the [open-mistral-nemo][8] 12b open source model as our LLM.\n",
    "\n",
    "[8]: https://mistral.ai/news/mistral-nemo/"
   ]
  },
  {
   "cell_type": "code",
   "execution_count": 33,
   "id": "a5e4002b-b40e-40ca-a4ad-79c0434316bb",
   "metadata": {},
   "outputs": [
    {
     "data": {
      "text/plain": [
       "\"Hello! How can I assist you today? Let's chat about anything you'd like. 😊\""
      ]
     },
     "execution_count": 33,
     "metadata": {},
     "output_type": "execute_result"
    }
   ],
   "source": [
    "model_name = \"open-mistral-nemo\"\n",
    "prompt = \"Hello, world\"\n",
    "\n",
    "response = client.chat.completions.create(\n",
    "        model=model_name,\n",
    "        messages=[{\"role\": \"user\", \"content\": prompt}]\n",
    "    )\n",
    "\n",
    "response = response.choices[0].message.content\n",
    "response"
   ]
  },
  {
   "cell_type": "markdown",
   "id": "61b0fcc0-0c51-4013-bcad-a1e50efe2729",
   "metadata": {},
   "source": [
    "Now we are connected to the LLM and ready to chat!"
   ]
  },
  {
   "cell_type": "code",
   "execution_count": null,
   "id": "4b626381-8016-44f8-b3e4-905245f7eff6",
   "metadata": {},
   "outputs": [],
   "source": []
  }
 ],
 "metadata": {
  "kernelspec": {
   "display_name": "Python 3 (ipykernel)",
   "language": "python",
   "name": "python3"
  },
  "language_info": {
   "codemirror_mode": {
    "name": "ipython",
    "version": 3
   },
   "file_extension": ".py",
   "mimetype": "text/x-python",
   "name": "python",
   "nbconvert_exporter": "python",
   "pygments_lexer": "ipython3",
   "version": "3.12.7"
  }
 },
 "nbformat": 4,
 "nbformat_minor": 5
}
