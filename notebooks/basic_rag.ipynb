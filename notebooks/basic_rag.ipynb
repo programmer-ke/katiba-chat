{
 "cells": [
  {
   "cell_type": "markdown",
   "id": "cf057f5b-7918-48bd-a80a-93175c51280d",
   "metadata": {},
   "source": [
    "# A Basic Retrieval Augmented Generation (RAG) flow with the Kenya 2010 Constitution"
   ]
  },
  {
   "cell_type": "markdown",
   "id": "7d431994-a841-4f94-9cbc-4fa08825d7ee",
   "metadata": {},
   "source": [
    "The goal of this is to be able to ask questions and receive responses about information contained in articles of the Kenya 2010 Constitution. This is useful for getting quick responses without having to manually search the entire document."
   ]
  },
  {
   "cell_type": "markdown",
   "id": "82cb3cc4-4e8e-49cb-8f07-59aeb30a3ad9",
   "metadata": {},
   "source": [
    "## Pre-processing"
   ]
  },
  {
   "cell_type": "markdown",
   "id": "bacca182-7b55-425f-89a9-a6fd39787c6e",
   "metadata": {},
   "source": [
    "We have a JSON copy of the constitution's articles extracted from a PDF version of the constitution in [this][0] Github repo. We fetch the JSON:\n",
    "\n",
    "[0]: https://github.com/programmer-ke/constitution_kenya"
   ]
  },
  {
   "cell_type": "code",
   "execution_count": 1,
   "id": "a16da6f6-dfed-4834-91fc-970ae0efb707",
   "metadata": {},
   "outputs": [
    {
     "name": "stdout",
     "output_type": "stream",
     "text": [
      "--2024-10-02 15:33:29--  https://raw.githubusercontent.com/programmer-ke/constitution_kenya/refs/heads/master/json/ConstitutionKenya2010.json\n",
      "Resolving raw.githubusercontent.com (raw.githubusercontent.com)... 185.199.108.133, 185.199.110.133, 185.199.111.133, ...\n",
      "Connecting to raw.githubusercontent.com (raw.githubusercontent.com)|185.199.108.133|:443... connected.\n",
      "HTTP request sent, awaiting response... 200 OK\n",
      "Length: 304441 (297K) [text/plain]\n",
      "Saving to: ‘constitution.json’\n",
      "\n",
      "constitution.json   100%[===================>] 297.31K   991KB/s    in 0.3s    \n",
      "\n",
      "2024-10-02 15:33:31 (991 KB/s) - ‘constitution.json’ saved [304441/304441]\n",
      "\n"
     ]
    }
   ],
   "source": [
    "!wget https://raw.githubusercontent.com/programmer-ke/constitution_kenya/refs/heads/master/json/ConstitutionKenya2010.json -O constitution.json"
   ]
  },
  {
   "cell_type": "code",
   "execution_count": 2,
   "id": "002a3a6f-0895-4b81-aab3-35cacf30f62b",
   "metadata": {},
   "outputs": [],
   "source": [
    "import json"
   ]
  },
  {
   "cell_type": "code",
   "execution_count": 3,
   "id": "0bc17a87-af12-484f-a02c-1f7c5db5e17a",
   "metadata": {},
   "outputs": [],
   "source": [
    "with open('constitution.json', 'rt') as f:\n",
    "    articles = json.load(f)"
   ]
  },
  {
   "cell_type": "code",
   "execution_count": 4,
   "id": "384cc5f7-14b9-49c7-9830-4b5eea9a25f8",
   "metadata": {},
   "outputs": [
    {
     "data": {
      "text/plain": [
       "[{'number': 65,\n",
       "  'title': 'Landholding by non-citizens.',\n",
       "  'lines': ['(1)  A person who is not a citizen may hold land on the basis of leasehold\\n',\n",
       "   'tenure only, and any such lease, however granted, shall not exceed ninety-nine years.\\n',\n",
       "   '(2)  If a provision of any agreement, deed, conveyance or document of whatever\\n',\n",
       "   'nature purports to confer on a person who is not a citizen an interest in land greater\\n',\n",
       "   'than a ninety-nine year lease, the provision shall be regarded as conferring on the\\n',\n",
       "   'person a ninety-nine year leasehold interest, and no more.\\n',\n",
       "   '(3)  For purposes of this Article —\\n',\n",
       "   '(a) a body corporate shall be regarded as a citizen only if the body corporate\\n',\n",
       "   'is wholly owned by one or more citizens; and\\n',\n",
       "   '(b) property held in trust shall be regarded as being held by a citizen only\\n',\n",
       "   'if all of the beneficial interest of the trust is held by persons who are\\n',\n",
       "   'citizens.\\n',\n",
       "   '(4)  Parliament may enact legislation to make further provision for the operation\\n',\n",
       "   'of this Article.\\n'],\n",
       "  'part': [1, 'LAND'],\n",
       "  'chapter': [5, 'LAND AND ENVIRONMENT']},\n",
       " {'number': 66,\n",
       "  'title': 'Regulation of land use and property.',\n",
       "  'lines': ['(1)  The State may regulate the use of any land, or any interest in or right\\n',\n",
       "   'over any land, in the interest of defence, public safety, public order, public morality,\\n',\n",
       "   'public health, or land use planning.\\n',\n",
       "   '(2)  Parliament shall enact legislation ensuring that investments in property\\n',\n",
       "   'benefit local communities and their economies.\\n'],\n",
       "  'part': [1, 'LAND'],\n",
       "  'chapter': [5, 'LAND AND ENVIRONMENT']},\n",
       " {'number': 67,\n",
       "  'title': 'National Land Commission.',\n",
       "  'lines': ['(1)  There is established the National Land Commission.\\n',\n",
       "   '(2)  The functions of the National Land Commission are—\\n',\n",
       "   '(a) to manage public land on behalf of the national and county\\n',\n",
       "   'governments;\\n',\n",
       "   '(b) to recommend a national land policy to the national government;\\n',\n",
       "   '(c) to advise the national government on a comprehensive programme for\\n',\n",
       "   'the registration of title in land throughout Kenya;\\n',\n",
       "   '(d) to conduct research related to land and the use of natural resources,\\n',\n",
       "   'and make recommendations to appropriate authorities;\\n',\n",
       "   '(e) to initiate investigations, on its own initiative or on a complaint,\\n',\n",
       "   'into present or historical land injustices, and recommend appropriate\\n',\n",
       "   'redress;\\n',\n",
       "   '(f)to encourage the application of traditional dispute resolution\\n',\n",
       "   'mechanisms in land conflicts;\\n',\n",
       "   '(g) to assess tax on land and premiums on immovable property in any area\\n',\n",
       "   'designated by law; and\\n',\n",
       "   '(h) to monitor and have oversight responsibilities over land use planning\\n',\n",
       "   'throughout the country.\\n',\n",
       "   '(3)  The National Land Commission may perform any other functions prescribed\\n',\n",
       "   'by national legislation.\\n'],\n",
       "  'part': [1, 'LAND'],\n",
       "  'chapter': [5, 'LAND AND ENVIRONMENT']}]"
      ]
     },
     "execution_count": 4,
     "metadata": {},
     "output_type": "execute_result"
    }
   ],
   "source": [
    "articles[64:67]"
   ]
  },
  {
   "cell_type": "markdown",
   "id": "34e93697-4319-4d7b-a824-fd4b36c6cbf9",
   "metadata": {},
   "source": [
    "It is a list of the articles contained in the constitution with the associated article number, the chapter it belongs to, if the chapter is divided into parts, we have the part number and title, and finally the lines that compose the article's clauses."
   ]
  },
  {
   "cell_type": "markdown",
   "id": "205c06c7-b405-41b3-9932-e0f4f30abeff",
   "metadata": {},
   "source": [
    "We do some processing to make searching easier:\n",
    "- combine the article lines into a single text field\n",
    "- have a single text field for each of chapter, part and article title\n",
    "- Where part doesn't exist, have it as a zero length string"
   ]
  },
  {
   "cell_type": "code",
   "execution_count": 5,
   "id": "2d15ba14-8b5e-4cbe-a021-782f44d0196f",
   "metadata": {},
   "outputs": [],
   "source": [
    "search_fields = []\n",
    "for article in articles:\n",
    "    \n",
    "    article_text = \"\".join(article['lines'])\n",
    "    article_title = f\"Article {article['number']}: {article['title']}\"\n",
    "    chapter_number, chapter_title = article['chapter']\n",
    "    chapter_text = f\"Chapter {chapter_number}: {chapter_title}\"\n",
    "    part_text = \"\"\n",
    "    \n",
    "    if article['part']:\n",
    "        part_num, part_title = article['part']\n",
    "        part_text = f'Part {part_num}: {part_title}'\n",
    "        \n",
    "    search_fields.append({\n",
    "        \"article_title\": article_title,\n",
    "        \"article_text\": article_text,\n",
    "        \"chapter\": chapter_text,\n",
    "        \"part\": part_text\n",
    "    })\n",
    "    "
   ]
  },
  {
   "cell_type": "code",
   "execution_count": 6,
   "id": "8e3c7fd2-c1da-4574-972e-42211f6cc22a",
   "metadata": {},
   "outputs": [
    {
     "data": {
      "text/plain": [
       "[{'article_title': 'Article 1: Sovereignty of the people.',\n",
       "  'article_text': '(1)  All sovereign power belongs to the people of Kenya and shall be exercised\\nonly in accordance with this Constitution.\\n(2)  The people may exercise their sovereign power either directly or through their\\ndemocratically elected representatives.\\n(3)  Sovereign power under this Constitution is delegated to the following State\\norgans, which shall perform their functions in accordance with this Constitution—\\n(a) Parliament and the legislative assemblies in the county governments;\\n(b) the national executive and the executive structures in the county\\ngovernments; and\\n(c) the Judiciary and independent tribunals.\\n(4)  The sovereign power of the people is exercised at—\\n(a) the national level; and\\n(b) the county level.\\n',\n",
       "  'chapter': 'Chapter 1: SOVEREIGNTY OF THE PEOPLE AND SUPREMACY OF THIS CONSTITUTION',\n",
       "  'part': ''},\n",
       " {'article_title': 'Article 2: Supremacy of this Constitution.',\n",
       "  'article_text': '(1)  This Constitution is the supreme law of the Republic and binds all persons\\nand all State organs at both levels of government.\\n(2)  No person may claim or exercise State authority except as authorised under\\nthis Constitution.\\n(3)  The validity or legality of this Constitution is not subject to challenge by or\\nbefore any court or other State organ.\\n(4)  Any law, including customary law, that is inconsistent with this Constitution\\nis void to the extent of the inconsistency, and any act or omission in contravention\\nof this Constitution is invalid.\\n(5)  The general rules of international law shall form part of the law of Kenya.\\n(6)  Any treaty or convention ratified by Kenya shall form part of the law of Kenya\\nunder this Constitution.\\n',\n",
       "  'chapter': 'Chapter 1: SOVEREIGNTY OF THE PEOPLE AND SUPREMACY OF THIS CONSTITUTION',\n",
       "  'part': ''},\n",
       " {'article_title': 'Article 3: Defence of this Constitution.',\n",
       "  'article_text': '(1)  Every person has an obligation to respect, uphold and defend this\\nConstitution.\\n(2)  Any attempt to establish a government otherwise than in compliance with\\nthis Constitution is unlawful.\\n',\n",
       "  'chapter': 'Chapter 1: SOVEREIGNTY OF THE PEOPLE AND SUPREMACY OF THIS CONSTITUTION',\n",
       "  'part': ''}]"
      ]
     },
     "execution_count": 6,
     "metadata": {},
     "output_type": "execute_result"
    }
   ],
   "source": [
    "search_fields[:3]"
   ]
  },
  {
   "cell_type": "code",
   "execution_count": 7,
   "id": "eaa10dfb-9de5-4913-b67d-0332c020ce93",
   "metadata": {},
   "outputs": [
    {
     "data": {
      "text/plain": [
       "[{'article_title': 'Article 65: Landholding by non-citizens.',\n",
       "  'article_text': '(1)  A person who is not a citizen may hold land on the basis of leasehold\\ntenure only, and any such lease, however granted, shall not exceed ninety-nine years.\\n(2)  If a provision of any agreement, deed, conveyance or document of whatever\\nnature purports to confer on a person who is not a citizen an interest in land greater\\nthan a ninety-nine year lease, the provision shall be regarded as conferring on the\\nperson a ninety-nine year leasehold interest, and no more.\\n(3)  For purposes of this Article —\\n(a) a body corporate shall be regarded as a citizen only if the body corporate\\nis wholly owned by one or more citizens; and\\n(b) property held in trust shall be regarded as being held by a citizen only\\nif all of the beneficial interest of the trust is held by persons who are\\ncitizens.\\n(4)  Parliament may enact legislation to make further provision for the operation\\nof this Article.\\n',\n",
       "  'chapter': 'Chapter 5: LAND AND ENVIRONMENT',\n",
       "  'part': 'Part 1: LAND'},\n",
       " {'article_title': 'Article 66: Regulation of land use and property.',\n",
       "  'article_text': '(1)  The State may regulate the use of any land, or any interest in or right\\nover any land, in the interest of defence, public safety, public order, public morality,\\npublic health, or land use planning.\\n(2)  Parliament shall enact legislation ensuring that investments in property\\nbenefit local communities and their economies.\\n',\n",
       "  'chapter': 'Chapter 5: LAND AND ENVIRONMENT',\n",
       "  'part': 'Part 1: LAND'},\n",
       " {'article_title': 'Article 67: National Land Commission.',\n",
       "  'article_text': '(1)  There is established the National Land Commission.\\n(2)  The functions of the National Land Commission are—\\n(a) to manage public land on behalf of the national and county\\ngovernments;\\n(b) to recommend a national land policy to the national government;\\n(c) to advise the national government on a comprehensive programme for\\nthe registration of title in land throughout Kenya;\\n(d) to conduct research related to land and the use of natural resources,\\nand make recommendations to appropriate authorities;\\n(e) to initiate investigations, on its own initiative or on a complaint,\\ninto present or historical land injustices, and recommend appropriate\\nredress;\\n(f)to encourage the application of traditional dispute resolution\\nmechanisms in land conflicts;\\n(g) to assess tax on land and premiums on immovable property in any area\\ndesignated by law; and\\n(h) to monitor and have oversight responsibilities over land use planning\\nthroughout the country.\\n(3)  The National Land Commission may perform any other functions prescribed\\nby national legislation.\\n',\n",
       "  'chapter': 'Chapter 5: LAND AND ENVIRONMENT',\n",
       "  'part': 'Part 1: LAND'}]"
      ]
     },
     "execution_count": 7,
     "metadata": {},
     "output_type": "execute_result"
    }
   ],
   "source": [
    "search_fields[64:67]"
   ]
  },
  {
   "cell_type": "markdown",
   "id": "8194d7e8-1c42-475b-8dad-3885c1a3c9db",
   "metadata": {},
   "source": [
    "## Retrieval"
   ]
  },
  {
   "cell_type": "code",
   "execution_count": null,
   "id": "0dd90a4c-d5b7-4d2f-817d-73a57c5a3362",
   "metadata": {},
   "outputs": [],
   "source": []
  }
 ],
 "metadata": {
  "kernelspec": {
   "display_name": "Python 3 (ipykernel)",
   "language": "python",
   "name": "python3"
  },
  "language_info": {
   "codemirror_mode": {
    "name": "ipython",
    "version": 3
   },
   "file_extension": ".py",
   "mimetype": "text/x-python",
   "name": "python",
   "nbconvert_exporter": "python",
   "pygments_lexer": "ipython3",
   "version": "3.12.7"
  }
 },
 "nbformat": 4,
 "nbformat_minor": 5
}
